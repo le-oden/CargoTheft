{
 "cells": [
  {
   "cell_type": "markdown",
   "id": "a43d3c76-bee6-4feb-83c5-113824cab31c",
   "metadata": {},
   "source": [
    "# Career Foundry 6.1\n",
    "## Perform initial data clean up and analysis\n",
    "- Basic statistical analysis of the data set\n",
    "- Remove duplicates\n",
    "- Correct data types"
   ]
  },
  {
   "cell_type": "code",
   "execution_count": 1,
   "id": "0f754048-eafc-46a1-aac0-4a88296093db",
   "metadata": {},
   "outputs": [],
   "source": [
    "#import libraries\n",
    "import pandas as pd\n",
    "import numpy as np\n",
    "import os"
   ]
  },
  {
   "cell_type": "code",
   "execution_count": 2,
   "id": "9a97f3ad-d421-41d4-90b8-1e30d3465537",
   "metadata": {},
   "outputs": [],
   "source": [
    "# create a path for this project\n",
    "path = r'C:\\Users\\laura\\Documents\\Continuting Education\\Career Foundry\\Advanced Analytics and Dashboards\\Data Analytics Dashboard Project'"
   ]
  },
  {
   "cell_type": "code",
   "execution_count": 5,
   "id": "4f908da2-c0ee-452e-8d74-c138319b12d8",
   "metadata": {},
   "outputs": [],
   "source": [
    "df_cargo_1 = pd.read_csv(os.path.join(path, 'Data Files', 'clean', 'CT_2013_2023', 'CD_2023_Cleaned_1.csv'))"
   ]
  },
  {
   "cell_type": "markdown",
   "id": "7a1ece1f-779d-4699-acfb-0e4663343140",
   "metadata": {},
   "source": [
    "# Initial data exploration"
   ]
  },
  {
   "cell_type": "code",
   "execution_count": 8,
   "id": "5a9fb175-3069-4b1e-88c0-022c956b6941",
   "metadata": {},
   "outputs": [
    {
     "data": {
      "text/html": [
       "<div>\n",
       "<style scoped>\n",
       "    .dataframe tbody tr th:only-of-type {\n",
       "        vertical-align: middle;\n",
       "    }\n",
       "\n",
       "    .dataframe tbody tr th {\n",
       "        vertical-align: top;\n",
       "    }\n",
       "\n",
       "    .dataframe thead th {\n",
       "        text-align: right;\n",
       "    }\n",
       "</style>\n",
       "<table border=\"1\" class=\"dataframe\">\n",
       "  <thead>\n",
       "    <tr style=\"text-align: right;\">\n",
       "      <th></th>\n",
       "      <th>data_year</th>\n",
       "      <th>offender_age</th>\n",
       "    </tr>\n",
       "  </thead>\n",
       "  <tbody>\n",
       "    <tr>\n",
       "      <th>count</th>\n",
       "      <td>228305.000000</td>\n",
       "      <td>118657.000000</td>\n",
       "    </tr>\n",
       "    <tr>\n",
       "      <th>mean</th>\n",
       "      <td>2019.545853</td>\n",
       "      <td>24.539833</td>\n",
       "    </tr>\n",
       "    <tr>\n",
       "      <th>std</th>\n",
       "      <td>2.994598</td>\n",
       "      <td>17.756065</td>\n",
       "    </tr>\n",
       "    <tr>\n",
       "      <th>min</th>\n",
       "      <td>2012.000000</td>\n",
       "      <td>0.000000</td>\n",
       "    </tr>\n",
       "    <tr>\n",
       "      <th>25%</th>\n",
       "      <td>2018.000000</td>\n",
       "      <td>14.000000</td>\n",
       "    </tr>\n",
       "    <tr>\n",
       "      <th>50%</th>\n",
       "      <td>2020.000000</td>\n",
       "      <td>25.000000</td>\n",
       "    </tr>\n",
       "    <tr>\n",
       "      <th>75%</th>\n",
       "      <td>2022.000000</td>\n",
       "      <td>36.000000</td>\n",
       "    </tr>\n",
       "    <tr>\n",
       "      <th>max</th>\n",
       "      <td>2023.000000</td>\n",
       "      <td>99.000000</td>\n",
       "    </tr>\n",
       "  </tbody>\n",
       "</table>\n",
       "</div>"
      ],
      "text/plain": [
       "           data_year   offender_age\n",
       "count  228305.000000  118657.000000\n",
       "mean     2019.545853      24.539833\n",
       "std         2.994598      17.756065\n",
       "min      2012.000000       0.000000\n",
       "25%      2018.000000      14.000000\n",
       "50%      2020.000000      25.000000\n",
       "75%      2022.000000      36.000000\n",
       "max      2023.000000      99.000000"
      ]
     },
     "execution_count": 8,
     "metadata": {},
     "output_type": "execute_result"
    }
   ],
   "source": [
    "df_cargo_1.describe()"
   ]
  },
  {
   "cell_type": "code",
   "execution_count": 10,
   "id": "5735346e-261d-4ac2-8eea-3c02d84c7ead",
   "metadata": {},
   "outputs": [
    {
     "data": {
      "text/plain": [
       "(228305, 28)"
      ]
     },
     "execution_count": 10,
     "metadata": {},
     "output_type": "execute_result"
    }
   ],
   "source": [
    "df_cargo_1.shape"
   ]
  },
  {
   "cell_type": "code",
   "execution_count": 12,
   "id": "58425c03-3554-4a01-bf00-78881632d90e",
   "metadata": {},
   "outputs": [
    {
     "data": {
      "text/html": [
       "<div>\n",
       "<style scoped>\n",
       "    .dataframe tbody tr th:only-of-type {\n",
       "        vertical-align: middle;\n",
       "    }\n",
       "\n",
       "    .dataframe tbody tr th {\n",
       "        vertical-align: top;\n",
       "    }\n",
       "\n",
       "    .dataframe thead th {\n",
       "        text-align: right;\n",
       "    }\n",
       "</style>\n",
       "<table border=\"1\" class=\"dataframe\">\n",
       "  <thead>\n",
       "    <tr style=\"text-align: right;\">\n",
       "      <th></th>\n",
       "      <th>data_year</th>\n",
       "      <th>ori</th>\n",
       "      <th>pub_agency_name</th>\n",
       "      <th>pub_agency_unit</th>\n",
       "      <th>agency_type_name</th>\n",
       "      <th>city_name</th>\n",
       "      <th>state_abbr</th>\n",
       "      <th>state_name</th>\n",
       "      <th>division_name</th>\n",
       "      <th>county_name</th>\n",
       "      <th>...</th>\n",
       "      <th>offender_age</th>\n",
       "      <th>offender_sex</th>\n",
       "      <th>victim_type_name</th>\n",
       "      <th>location_name</th>\n",
       "      <th>weapon_name</th>\n",
       "      <th>prop_desc_name</th>\n",
       "      <th>stolen_value</th>\n",
       "      <th>recovered_value</th>\n",
       "      <th>recovered_flag</th>\n",
       "      <th>date_recovered</th>\n",
       "    </tr>\n",
       "  </thead>\n",
       "  <tbody>\n",
       "    <tr>\n",
       "      <th>0</th>\n",
       "      <td>2019</td>\n",
       "      <td>NC0900200</td>\n",
       "      <td>Monroe</td>\n",
       "      <td>NaN</td>\n",
       "      <td>City</td>\n",
       "      <td>Monroe</td>\n",
       "      <td>NC</td>\n",
       "      <td>North Carolina</td>\n",
       "      <td>South Atlantic</td>\n",
       "      <td>UNION</td>\n",
       "      <td>...</td>\n",
       "      <td>NaN</td>\n",
       "      <td>NaN</td>\n",
       "      <td>Individual</td>\n",
       "      <td>Hotel/Motel/Etc.</td>\n",
       "      <td>NaN</td>\n",
       "      <td>Aircraft</td>\n",
       "      <td>50</td>\n",
       "      <td>$-</td>\n",
       "      <td>False</td>\n",
       "      <td>NaN</td>\n",
       "    </tr>\n",
       "    <tr>\n",
       "      <th>1</th>\n",
       "      <td>2012</td>\n",
       "      <td>FL0530000</td>\n",
       "      <td>Polk</td>\n",
       "      <td>NaN</td>\n",
       "      <td>County</td>\n",
       "      <td>NaN</td>\n",
       "      <td>FL</td>\n",
       "      <td>Florida</td>\n",
       "      <td>South Atlantic</td>\n",
       "      <td>POLK</td>\n",
       "      <td>...</td>\n",
       "      <td>NaN</td>\n",
       "      <td>X</td>\n",
       "      <td>Individual</td>\n",
       "      <td>Not Specified</td>\n",
       "      <td>NaN</td>\n",
       "      <td>Alcohol</td>\n",
       "      <td>120000</td>\n",
       "      <td>$-</td>\n",
       "      <td>False</td>\n",
       "      <td>NaN</td>\n",
       "    </tr>\n",
       "    <tr>\n",
       "      <th>2</th>\n",
       "      <td>2012</td>\n",
       "      <td>FL0530000</td>\n",
       "      <td>Polk</td>\n",
       "      <td>NaN</td>\n",
       "      <td>County</td>\n",
       "      <td>NaN</td>\n",
       "      <td>FL</td>\n",
       "      <td>Florida</td>\n",
       "      <td>South Atlantic</td>\n",
       "      <td>POLK</td>\n",
       "      <td>...</td>\n",
       "      <td>NaN</td>\n",
       "      <td>X</td>\n",
       "      <td>Individual</td>\n",
       "      <td>Convenience Store</td>\n",
       "      <td>NaN</td>\n",
       "      <td>Alcohol</td>\n",
       "      <td>120000</td>\n",
       "      <td>$-</td>\n",
       "      <td>False</td>\n",
       "      <td>NaN</td>\n",
       "    </tr>\n",
       "    <tr>\n",
       "      <th>3</th>\n",
       "      <td>2012</td>\n",
       "      <td>FL0530000</td>\n",
       "      <td>Polk</td>\n",
       "      <td>NaN</td>\n",
       "      <td>County</td>\n",
       "      <td>NaN</td>\n",
       "      <td>FL</td>\n",
       "      <td>Florida</td>\n",
       "      <td>South Atlantic</td>\n",
       "      <td>POLK</td>\n",
       "      <td>...</td>\n",
       "      <td>NaN</td>\n",
       "      <td>X</td>\n",
       "      <td>Individual</td>\n",
       "      <td>Not Specified</td>\n",
       "      <td>NaN</td>\n",
       "      <td>Alcohol</td>\n",
       "      <td>120000</td>\n",
       "      <td>$-</td>\n",
       "      <td>False</td>\n",
       "      <td>NaN</td>\n",
       "    </tr>\n",
       "    <tr>\n",
       "      <th>4</th>\n",
       "      <td>2012</td>\n",
       "      <td>FL0530000</td>\n",
       "      <td>Polk</td>\n",
       "      <td>NaN</td>\n",
       "      <td>County</td>\n",
       "      <td>NaN</td>\n",
       "      <td>FL</td>\n",
       "      <td>Florida</td>\n",
       "      <td>South Atlantic</td>\n",
       "      <td>POLK</td>\n",
       "      <td>...</td>\n",
       "      <td>NaN</td>\n",
       "      <td>X</td>\n",
       "      <td>Individual</td>\n",
       "      <td>Convenience Store</td>\n",
       "      <td>NaN</td>\n",
       "      <td>Alcohol</td>\n",
       "      <td>120000</td>\n",
       "      <td>$-</td>\n",
       "      <td>False</td>\n",
       "      <td>NaN</td>\n",
       "    </tr>\n",
       "  </tbody>\n",
       "</table>\n",
       "<p>5 rows × 28 columns</p>\n",
       "</div>"
      ],
      "text/plain": [
       "   data_year        ori pub_agency_name pub_agency_unit agency_type_name  \\\n",
       "0       2019  NC0900200          Monroe             NaN             City   \n",
       "1       2012  FL0530000            Polk             NaN           County   \n",
       "2       2012  FL0530000            Polk             NaN           County   \n",
       "3       2012  FL0530000            Polk             NaN           County   \n",
       "4       2012  FL0530000            Polk             NaN           County   \n",
       "\n",
       "  city_name state_abbr      state_name   division_name county_name  ...  \\\n",
       "0    Monroe         NC  North Carolina  South Atlantic       UNION  ...   \n",
       "1       NaN         FL         Florida  South Atlantic        POLK  ...   \n",
       "2       NaN         FL         Florida  South Atlantic        POLK  ...   \n",
       "3       NaN         FL         Florida  South Atlantic        POLK  ...   \n",
       "4       NaN         FL         Florida  South Atlantic        POLK  ...   \n",
       "\n",
       "  offender_age offender_sex victim_type_name      location_name weapon_name  \\\n",
       "0          NaN          NaN       Individual   Hotel/Motel/Etc.         NaN   \n",
       "1          NaN            X       Individual      Not Specified         NaN   \n",
       "2          NaN            X       Individual  Convenience Store         NaN   \n",
       "3          NaN            X       Individual      Not Specified         NaN   \n",
       "4          NaN            X       Individual  Convenience Store         NaN   \n",
       "\n",
       "  prop_desc_name  stolen_value   recovered_value   recovered_flag  \\\n",
       "0       Aircraft             50             $-              False   \n",
       "1        Alcohol         120000             $-              False   \n",
       "2        Alcohol         120000             $-              False   \n",
       "3        Alcohol         120000             $-              False   \n",
       "4        Alcohol         120000             $-              False   \n",
       "\n",
       "  date_recovered  \n",
       "0            NaN  \n",
       "1            NaN  \n",
       "2            NaN  \n",
       "3            NaN  \n",
       "4            NaN  \n",
       "\n",
       "[5 rows x 28 columns]"
      ]
     },
     "execution_count": 12,
     "metadata": {},
     "output_type": "execute_result"
    }
   ],
   "source": [
    "df_cargo_1.head()"
   ]
  },
  {
   "cell_type": "markdown",
   "id": "9fdc1b53-5ee7-48c5-b5af-56550b9cc7d7",
   "metadata": {},
   "source": [
    "## Begin Data Cleaning"
   ]
  },
  {
   "cell_type": "code",
   "execution_count": 15,
   "id": "042cf6ff-3e39-4210-afe3-3b70bb5ff1c2",
   "metadata": {},
   "outputs": [],
   "source": [
    "#remove duplicates\n",
    "df_cargo_1 = df_cargo_1.drop_duplicates()"
   ]
  },
  {
   "cell_type": "code",
   "execution_count": 17,
   "id": "6923022f-09ec-4461-8771-d26282b7061a",
   "metadata": {},
   "outputs": [
    {
     "data": {
      "text/plain": [
       "(209809, 28)"
      ]
     },
     "execution_count": 17,
     "metadata": {},
     "output_type": "execute_result"
    }
   ],
   "source": [
    "df_cargo_1.shape"
   ]
  },
  {
   "cell_type": "code",
   "execution_count": 19,
   "id": "16cc1588-2804-466e-9431-e8526928c272",
   "metadata": {},
   "outputs": [],
   "source": [
    "#note that the row count has now been reduced"
   ]
  },
  {
   "cell_type": "code",
   "execution_count": 21,
   "id": "1ebf4061-338d-487a-a893-f3589e5e697c",
   "metadata": {},
   "outputs": [
    {
     "name": "stdout",
     "output_type": "stream",
     "text": [
      "Index(['data_year', 'ori', 'pub_agency_name', 'pub_agency_unit',\n",
      "       'agency_type_name', 'city_name', 'state_abbr', 'state_name',\n",
      "       'division_name', 'county_name', 'county_name_2', 'county_name_3',\n",
      "       'county_name_4', 'region_name', 'population_group_desc', 'offense_name',\n",
      "       'offender_race', 'offender_ethnicity', 'offender_age', 'offender_sex',\n",
      "       'victim_type_name', 'location_name', 'weapon_name', 'prop_desc_name',\n",
      "       ' stolen_value ', ' recovered_value ', 'recovered_flag',\n",
      "       'date_recovered'],\n",
      "      dtype='object')\n"
     ]
    }
   ],
   "source": [
    "print (df_cargo_1.columns)"
   ]
  },
  {
   "cell_type": "code",
   "execution_count": 23,
   "id": "f3446efc-a7e7-4b20-9050-6e920bb002c2",
   "metadata": {},
   "outputs": [],
   "source": [
    "# Some column names have space in them. I will address this"
   ]
  },
  {
   "cell_type": "code",
   "execution_count": 25,
   "id": "0bb01b33-a4b6-42d5-b16e-10cfc4f42f43",
   "metadata": {},
   "outputs": [],
   "source": [
    "df_cargo_1.columns = df_cargo_1.columns.str.strip()"
   ]
  },
  {
   "cell_type": "code",
   "execution_count": 27,
   "id": "55c4928b-8cac-4546-bf1e-f0e689497bcf",
   "metadata": {},
   "outputs": [
    {
     "name": "stdout",
     "output_type": "stream",
     "text": [
      "Index(['data_year', 'ori', 'pub_agency_name', 'pub_agency_unit',\n",
      "       'agency_type_name', 'city_name', 'state_abbr', 'state_name',\n",
      "       'division_name', 'county_name', 'county_name_2', 'county_name_3',\n",
      "       'county_name_4', 'region_name', 'population_group_desc', 'offense_name',\n",
      "       'offender_race', 'offender_ethnicity', 'offender_age', 'offender_sex',\n",
      "       'victim_type_name', 'location_name', 'weapon_name', 'prop_desc_name',\n",
      "       'stolen_value', 'recovered_value', 'recovered_flag', 'date_recovered'],\n",
      "      dtype='object')\n"
     ]
    }
   ],
   "source": [
    "print (df_cargo_1.columns)"
   ]
  },
  {
   "cell_type": "code",
   "execution_count": 29,
   "id": "d27162a8-6237-4910-a647-82ca23bfe195",
   "metadata": {},
   "outputs": [
    {
     "name": "stdout",
     "output_type": "stream",
     "text": [
      "object\n"
     ]
    }
   ],
   "source": [
    "print(df_cargo_1['recovered_value'].dtype)"
   ]
  },
  {
   "cell_type": "code",
   "execution_count": 31,
   "id": "821d58c5-0f94-4925-8fb0-5fb4cfebe4d9",
   "metadata": {},
   "outputs": [
    {
     "name": "stdout",
     "output_type": "stream",
     "text": [
      "data_year                  int64\n",
      "ori                       object\n",
      "pub_agency_name           object\n",
      "pub_agency_unit           object\n",
      "agency_type_name          object\n",
      "city_name                 object\n",
      "state_abbr                object\n",
      "state_name                object\n",
      "division_name             object\n",
      "county_name               object\n",
      "county_name_2             object\n",
      "county_name_3             object\n",
      "county_name_4             object\n",
      "region_name               object\n",
      "population_group_desc     object\n",
      "offense_name              object\n",
      "offender_race             object\n",
      "offender_ethnicity        object\n",
      "offender_age             float64\n",
      "offender_sex              object\n",
      "victim_type_name          object\n",
      "location_name             object\n",
      "weapon_name               object\n",
      "prop_desc_name            object\n",
      "stolen_value              object\n",
      "recovered_value           object\n",
      "recovered_flag              bool\n",
      "date_recovered            object\n",
      "dtype: object\n"
     ]
    }
   ],
   "source": [
    "print(df_cargo_1.dtypes)"
   ]
  },
  {
   "cell_type": "code",
   "execution_count": 33,
   "id": "bbf3660c-d476-49cd-996e-3291cd8b1179",
   "metadata": {},
   "outputs": [],
   "source": [
    "# Several columns in python are objects when they should be strings or other types. I will address this"
   ]
  },
  {
   "cell_type": "code",
   "execution_count": 35,
   "id": "31d978e3-6245-4606-8a38-991c82eb2eee",
   "metadata": {},
   "outputs": [],
   "source": [
    "df_cargo_1['ori'] = df_cargo_1['ori'].astype(str)\n",
    "df_cargo_1['pub_agency_unit'] = df_cargo_1['pub_agency_unit'].astype(str)\n",
    "df_cargo_1['pub_agency_name'] = df_cargo_1['pub_agency_name'].astype(str)\n",
    "df_cargo_1['agency_type_name'] = df_cargo_1['agency_type_name'].astype(str)\n",
    "df_cargo_1['city_name'] = df_cargo_1['city_name'].astype(str)\n",
    "df_cargo_1['state_abbr'] = df_cargo_1['state_abbr'].astype(str)\n",
    "df_cargo_1['state_name'] = df_cargo_1['state_name'].astype(str)\n",
    "df_cargo_1['division_name'] = df_cargo_1['division_name'].astype(str)\n",
    "df_cargo_1['county_name'] = df_cargo_1['county_name'].astype(str)\n",
    "df_cargo_1['region_name'] = df_cargo_1['region_name'].astype(str)\n",
    "df_cargo_1['offense_name'] = df_cargo_1['offense_name'].astype(str)\n",
    "df_cargo_1['population_group_desc'] = df_cargo_1['population_group_desc'].astype(str)\n",
    "df_cargo_1['offender_race'] = df_cargo_1['offender_race'].astype(str)\n",
    "df_cargo_1['offender_ethnicity'] = df_cargo_1['offender_ethnicity'].astype(str)\n",
    "df_cargo_1['offender_sex'] = df_cargo_1['offender_sex'].astype(str)\n",
    "df_cargo_1['weapon_name'] = df_cargo_1['weapon_name'].astype(str)\n",
    "df_cargo_1['prop_desc_name'] = df_cargo_1['prop_desc_name'].astype(str)\n",
    "df_cargo_1['victim_type_name'] = df_cargo_1['victim_type_name'].astype(str)\n",
    "df_cargo_1['location_name'] = df_cargo_1['location_name'].astype(str)\n",
    "df_cargo_1['weapon_name'] = df_cargo_1['weapon_name'].astype(str)\n",
    "\n",
    "\n"
   ]
  },
  {
   "cell_type": "markdown",
   "id": "a79b5644-640b-4d36-b78a-610608c00a48",
   "metadata": {},
   "source": [
    "## Begin cleaning columns values"
   ]
  },
  {
   "cell_type": "code",
   "execution_count": 38,
   "id": "63dd62b2-be70-4ebb-b466-a9351e9b6de8",
   "metadata": {},
   "outputs": [],
   "source": [
    "# Date recovered. Change na values to 1/1/1900 and convert to date type\n",
    "df_cargo_1['date_recovered'] = df_cargo_1['date_recovered'].fillna(pd.to_datetime('1900-01-01'))"
   ]
  },
  {
   "cell_type": "code",
   "execution_count": 39,
   "id": "f55d964e-8bbd-435a-a571-6fc66dd411db",
   "metadata": {},
   "outputs": [],
   "source": [
    "#convert column to date\n",
    "df_cargo_1['date_recovered'] = pd.to_datetime(df_cargo_1['date_recovered'])"
   ]
  },
  {
   "cell_type": "code",
   "execution_count": 42,
   "id": "6071a75c-9e35-4a10-a72e-a3ca04c8279d",
   "metadata": {},
   "outputs": [
    {
     "name": "stdout",
     "output_type": "stream",
     "text": [
      "datetime64[ns]\n"
     ]
    }
   ],
   "source": [
    "print(df_cargo_1['date_recovered'].dtype)"
   ]
  },
  {
   "cell_type": "code",
   "execution_count": 44,
   "id": "8f0e6e0c-469e-4cdf-9bc7-90682e355db0",
   "metadata": {},
   "outputs": [],
   "source": [
    "#replace  $-   recovered and stolen values with 0\n",
    "df_cargo_1['recovered_value'] = df_cargo_1['recovered_value'].replace(' $-   ', 0).fillna(0)\n",
    "df_cargo_1['stolen_value'] = df_cargo_1['stolen_value'].replace(' $-   ', 0).fillna(0)"
   ]
  },
  {
   "cell_type": "code",
   "execution_count": 46,
   "id": "9b0e441f-edc3-4655-ac85-1f86004b0949",
   "metadata": {},
   "outputs": [],
   "source": [
    "#replace  blank values from recovered and stolen values with 0\n",
    "df_cargo_1['recovered_value'] = df_cargo_1['recovered_value'].replace('', 0).fillna(0)\n",
    "df_cargo_1['stolen_value'] = df_cargo_1['stolen_value'].replace('', 0).fillna(0)"
   ]
  },
  {
   "cell_type": "code",
   "execution_count": 48,
   "id": "9a28f806-6714-495a-973a-3d0a18c40e31",
   "metadata": {},
   "outputs": [],
   "source": [
    "#change both columns from a string to a float data type\n",
    "df_cargo_1['recovered_value'] = df_cargo_1['recovered_value'].astype(float)\n",
    "df_cargo_1['stolen_value'] = df_cargo_1['stolen_value'].astype(float)"
   ]
  },
  {
   "cell_type": "code",
   "execution_count": 50,
   "id": "5978cc23-c2f8-459a-a981-c5b26abbd4fe",
   "metadata": {},
   "outputs": [
    {
     "name": "stdout",
     "output_type": "stream",
     "text": [
      "float64\n",
      "float64\n"
     ]
    }
   ],
   "source": [
    "print(df_cargo_1['recovered_value'].dtype)\n",
    "print(df_cargo_1['stolen_value'].dtype)"
   ]
  },
  {
   "cell_type": "code",
   "execution_count": 52,
   "id": "323ac6d4-d06a-4361-be97-51e3487ef826",
   "metadata": {},
   "outputs": [
    {
     "name": "stdout",
     "output_type": "stream",
     "text": [
      "count    2.098090e+05\n",
      "mean     2.300290e+03\n",
      "std      2.196439e+05\n",
      "min      0.000000e+00\n",
      "25%      0.000000e+00\n",
      "50%      0.000000e+00\n",
      "75%      0.000000e+00\n",
      "max      1.000000e+08\n",
      "Name: recovered_value, dtype: float64\n"
     ]
    }
   ],
   "source": [
    "print(df_cargo_1['recovered_value'].describe())"
   ]
  },
  {
   "cell_type": "code",
   "execution_count": 54,
   "id": "ca7bbea9-71b2-4c7e-a349-95e97bd73021",
   "metadata": {},
   "outputs": [
    {
     "name": "stdout",
     "output_type": "stream",
     "text": [
      "count    2.098090e+05\n",
      "mean     1.739042e+04\n",
      "std      2.541993e+06\n",
      "min      0.000000e+00\n",
      "25%      1.500000e+01\n",
      "50%      2.500000e+02\n",
      "75%      1.410000e+03\n",
      "max      1.000000e+09\n",
      "Name: stolen_value, dtype: float64\n"
     ]
    }
   ],
   "source": [
    "print(df_cargo_1['stolen_value'].describe())"
   ]
  },
  {
   "cell_type": "code",
   "execution_count": 56,
   "id": "8f5b0b98-632d-477f-b70a-fcb0ebc2e075",
   "metadata": {},
   "outputs": [],
   "source": [
    "#min value is 0. Likely this is becuase data is missing. I will put all columns that have a stolen value into a new data frame\n",
    "df_cargo_2 = df_cargo_1[df_cargo_1['stolen_value'] != 0]"
   ]
  },
  {
   "cell_type": "code",
   "execution_count": 60,
   "id": "5254652e-0698-455d-afe6-1e246408dbdf",
   "metadata": {},
   "outputs": [
    {
     "data": {
      "text/plain": [
       "(190148, 28)"
      ]
     },
     "execution_count": 60,
     "metadata": {},
     "output_type": "execute_result"
    }
   ],
   "source": [
    "#check my work\n",
    "df_cargo_2.shape"
   ]
  },
  {
   "cell_type": "code",
   "execution_count": 62,
   "id": "513aa977-0114-40a0-a0e6-31567b094cc6",
   "metadata": {},
   "outputs": [
    {
     "name": "stdout",
     "output_type": "stream",
     "text": [
      "['nan' 'X' 'U' 'M' 'F']\n"
     ]
    }
   ],
   "source": [
    "# offender_sex has multiple values that need to be cleaned up\n",
    "#first find out what unique values exist\n",
    "print (df_cargo_2['offender_sex'].unique())\n"
   ]
  },
  {
   "cell_type": "code",
   "execution_count": 70,
   "id": "b982cca7-15b1-4f3f-b4ff-03e9c3a54829",
   "metadata": {},
   "outputs": [],
   "source": [
    "#update to M, F or blank\n",
    "df_cargo_2.loc[~df_cargo_2['offender_sex'].isin(['M', 'F']), 'offender_sex'] = np.nan"
   ]
  },
  {
   "cell_type": "code",
   "execution_count": 72,
   "id": "db8cdd91-9f20-4eff-b65c-961dc8ecbddc",
   "metadata": {},
   "outputs": [
    {
     "name": "stdout",
     "output_type": "stream",
     "text": [
      "[nan 'M' 'F']\n"
     ]
    }
   ],
   "source": [
    "#check my work\n",
    "print (df_cargo_2['offender_sex'].unique())"
   ]
  },
  {
   "cell_type": "code",
   "execution_count": 74,
   "id": "c71b4be1-c089-4248-976a-4db2a9f97454",
   "metadata": {},
   "outputs": [
    {
     "data": {
      "text/html": [
       "<div>\n",
       "<style scoped>\n",
       "    .dataframe tbody tr th:only-of-type {\n",
       "        vertical-align: middle;\n",
       "    }\n",
       "\n",
       "    .dataframe tbody tr th {\n",
       "        vertical-align: top;\n",
       "    }\n",
       "\n",
       "    .dataframe thead th {\n",
       "        text-align: right;\n",
       "    }\n",
       "</style>\n",
       "<table border=\"1\" class=\"dataframe\">\n",
       "  <thead>\n",
       "    <tr style=\"text-align: right;\">\n",
       "      <th></th>\n",
       "      <th>data_year</th>\n",
       "      <th>ori</th>\n",
       "      <th>pub_agency_name</th>\n",
       "      <th>pub_agency_unit</th>\n",
       "      <th>agency_type_name</th>\n",
       "      <th>city_name</th>\n",
       "      <th>state_abbr</th>\n",
       "      <th>state_name</th>\n",
       "      <th>division_name</th>\n",
       "      <th>county_name</th>\n",
       "      <th>...</th>\n",
       "      <th>offender_age</th>\n",
       "      <th>offender_sex</th>\n",
       "      <th>victim_type_name</th>\n",
       "      <th>location_name</th>\n",
       "      <th>weapon_name</th>\n",
       "      <th>prop_desc_name</th>\n",
       "      <th>stolen_value</th>\n",
       "      <th>recovered_value</th>\n",
       "      <th>recovered_flag</th>\n",
       "      <th>date_recovered</th>\n",
       "    </tr>\n",
       "  </thead>\n",
       "  <tbody>\n",
       "    <tr>\n",
       "      <th>0</th>\n",
       "      <td>2019</td>\n",
       "      <td>NC0900200</td>\n",
       "      <td>Monroe</td>\n",
       "      <td>nan</td>\n",
       "      <td>City</td>\n",
       "      <td>Monroe</td>\n",
       "      <td>NC</td>\n",
       "      <td>North Carolina</td>\n",
       "      <td>South Atlantic</td>\n",
       "      <td>UNION</td>\n",
       "      <td>...</td>\n",
       "      <td>NaN</td>\n",
       "      <td>NaN</td>\n",
       "      <td>Individual</td>\n",
       "      <td>Hotel/Motel/Etc.</td>\n",
       "      <td>nan</td>\n",
       "      <td>Aircraft</td>\n",
       "      <td>50.0</td>\n",
       "      <td>0.0</td>\n",
       "      <td>False</td>\n",
       "      <td>1900-01-01</td>\n",
       "    </tr>\n",
       "    <tr>\n",
       "      <th>1</th>\n",
       "      <td>2012</td>\n",
       "      <td>FL0530000</td>\n",
       "      <td>Polk</td>\n",
       "      <td>nan</td>\n",
       "      <td>County</td>\n",
       "      <td>nan</td>\n",
       "      <td>FL</td>\n",
       "      <td>Florida</td>\n",
       "      <td>South Atlantic</td>\n",
       "      <td>POLK</td>\n",
       "      <td>...</td>\n",
       "      <td>NaN</td>\n",
       "      <td>NaN</td>\n",
       "      <td>Individual</td>\n",
       "      <td>Not Specified</td>\n",
       "      <td>nan</td>\n",
       "      <td>Alcohol</td>\n",
       "      <td>120000.0</td>\n",
       "      <td>0.0</td>\n",
       "      <td>False</td>\n",
       "      <td>1900-01-01</td>\n",
       "    </tr>\n",
       "    <tr>\n",
       "      <th>2</th>\n",
       "      <td>2012</td>\n",
       "      <td>FL0530000</td>\n",
       "      <td>Polk</td>\n",
       "      <td>nan</td>\n",
       "      <td>County</td>\n",
       "      <td>nan</td>\n",
       "      <td>FL</td>\n",
       "      <td>Florida</td>\n",
       "      <td>South Atlantic</td>\n",
       "      <td>POLK</td>\n",
       "      <td>...</td>\n",
       "      <td>NaN</td>\n",
       "      <td>NaN</td>\n",
       "      <td>Individual</td>\n",
       "      <td>Convenience Store</td>\n",
       "      <td>nan</td>\n",
       "      <td>Alcohol</td>\n",
       "      <td>120000.0</td>\n",
       "      <td>0.0</td>\n",
       "      <td>False</td>\n",
       "      <td>1900-01-01</td>\n",
       "    </tr>\n",
       "    <tr>\n",
       "      <th>11</th>\n",
       "      <td>2012</td>\n",
       "      <td>SC0150000</td>\n",
       "      <td>Colleton</td>\n",
       "      <td>nan</td>\n",
       "      <td>County</td>\n",
       "      <td>nan</td>\n",
       "      <td>SC</td>\n",
       "      <td>South Carolina</td>\n",
       "      <td>South Atlantic</td>\n",
       "      <td>COLLETON</td>\n",
       "      <td>...</td>\n",
       "      <td>NaN</td>\n",
       "      <td>NaN</td>\n",
       "      <td>Individual</td>\n",
       "      <td>Parking/Drop Lot/Garage</td>\n",
       "      <td>nan</td>\n",
       "      <td>Alcohol</td>\n",
       "      <td>2000.0</td>\n",
       "      <td>0.0</td>\n",
       "      <td>False</td>\n",
       "      <td>1900-01-01</td>\n",
       "    </tr>\n",
       "    <tr>\n",
       "      <th>12</th>\n",
       "      <td>2020</td>\n",
       "      <td>FL0139700</td>\n",
       "      <td>Miami Gardens</td>\n",
       "      <td>nan</td>\n",
       "      <td>City</td>\n",
       "      <td>Miami Gardens</td>\n",
       "      <td>FL</td>\n",
       "      <td>Florida</td>\n",
       "      <td>South Atlantic</td>\n",
       "      <td>MIAMI-DADE</td>\n",
       "      <td>...</td>\n",
       "      <td>NaN</td>\n",
       "      <td>NaN</td>\n",
       "      <td>Business</td>\n",
       "      <td>Highway/Road/Alley/Street/Sidewalk</td>\n",
       "      <td>nan</td>\n",
       "      <td>Alcohol</td>\n",
       "      <td>663.0</td>\n",
       "      <td>0.0</td>\n",
       "      <td>False</td>\n",
       "      <td>1900-01-01</td>\n",
       "    </tr>\n",
       "  </tbody>\n",
       "</table>\n",
       "<p>5 rows × 28 columns</p>\n",
       "</div>"
      ],
      "text/plain": [
       "    data_year        ori pub_agency_name pub_agency_unit agency_type_name  \\\n",
       "0        2019  NC0900200          Monroe             nan             City   \n",
       "1        2012  FL0530000            Polk             nan           County   \n",
       "2        2012  FL0530000            Polk             nan           County   \n",
       "11       2012  SC0150000        Colleton             nan           County   \n",
       "12       2020  FL0139700   Miami Gardens             nan             City   \n",
       "\n",
       "        city_name state_abbr      state_name   division_name county_name  ...  \\\n",
       "0          Monroe         NC  North Carolina  South Atlantic       UNION  ...   \n",
       "1             nan         FL         Florida  South Atlantic        POLK  ...   \n",
       "2             nan         FL         Florida  South Atlantic        POLK  ...   \n",
       "11            nan         SC  South Carolina  South Atlantic    COLLETON  ...   \n",
       "12  Miami Gardens         FL         Florida  South Atlantic  MIAMI-DADE  ...   \n",
       "\n",
       "   offender_age offender_sex victim_type_name  \\\n",
       "0           NaN          NaN       Individual   \n",
       "1           NaN          NaN       Individual   \n",
       "2           NaN          NaN       Individual   \n",
       "11          NaN          NaN       Individual   \n",
       "12          NaN          NaN         Business   \n",
       "\n",
       "                         location_name weapon_name prop_desc_name  \\\n",
       "0                     Hotel/Motel/Etc.         nan       Aircraft   \n",
       "1                        Not Specified         nan        Alcohol   \n",
       "2                    Convenience Store         nan        Alcohol   \n",
       "11             Parking/Drop Lot/Garage         nan        Alcohol   \n",
       "12  Highway/Road/Alley/Street/Sidewalk         nan        Alcohol   \n",
       "\n",
       "   stolen_value recovered_value  recovered_flag date_recovered  \n",
       "0          50.0             0.0           False     1900-01-01  \n",
       "1      120000.0             0.0           False     1900-01-01  \n",
       "2      120000.0             0.0           False     1900-01-01  \n",
       "11       2000.0             0.0           False     1900-01-01  \n",
       "12        663.0             0.0           False     1900-01-01  \n",
       "\n",
       "[5 rows x 28 columns]"
      ]
     },
     "execution_count": 74,
     "metadata": {},
     "output_type": "execute_result"
    }
   ],
   "source": [
    "df_cargo_2.head()"
   ]
  },
  {
   "cell_type": "code",
   "execution_count": 76,
   "id": "e21dbeaa-3f25-4026-8242-12cfe62e314d",
   "metadata": {},
   "outputs": [
    {
     "name": "stdout",
     "output_type": "stream",
     "text": [
      "count    1.901480e+05\n",
      "mean     2.538130e+03\n",
      "std      2.307188e+05\n",
      "min      0.000000e+00\n",
      "25%      0.000000e+00\n",
      "50%      0.000000e+00\n",
      "75%      0.000000e+00\n",
      "max      1.000000e+08\n",
      "Name: recovered_value, dtype: float64\n"
     ]
    }
   ],
   "source": [
    "#checking recovered value for later analysis\n",
    "print(df_cargo_2['recovered_value'].describe())"
   ]
  },
  {
   "cell_type": "code",
   "execution_count": 80,
   "id": "2d6964a8-7b38-4b1f-9b7b-f726226eff62",
   "metadata": {},
   "outputs": [
    {
     "data": {
      "text/plain": [
       "array(['Hotel/Motel/Etc.', 'Not Specified', 'Convenience Store',\n",
       "       'Parking/Drop Lot/Garage', 'Highway/Road/Alley/Street/Sidewalk',\n",
       "       'Amusement Park', 'Liquor Store', 'Restaurant', 'Other/Unknown',\n",
       "       'Commercial/Office Building', 'Department/Discount Store',\n",
       "       'Grocery/Supermarket', 'Residence/Home', 'Service/Gas Station',\n",
       "       'Dock/Wharf/Freight/Modal Terminal', 'Specialty Store',\n",
       "       \"Drug Store/Doctor's Office/Hospital\", 'Air/Bus/Train Terminal',\n",
       "       'Field/Woods', 'School-College/University',\n",
       "       'School-Elementary/Secondary', 'Abandoned/Condemned Structure',\n",
       "       'Rental Storage Facility', 'Auto Dealership New/Used',\n",
       "       'Bar/Nightclub', 'Government/Public Building',\n",
       "       'Church/Synagogue/Temple/Mosque', 'Construction Site',\n",
       "       'Gambling Facility/Casino/Race Track', 'Camp/Campground',\n",
       "       'ATM Separate from Bank', 'Shopping Mall', 'Farm Facility',\n",
       "       'Park/Playground', 'Bank/Savings and Loan', 'Industrial Site',\n",
       "       'Community Center', 'School/College', 'Rest Area',\n",
       "       'Arena/Stadium/Fairgrounds/Coliseum', 'Lake/Waterway/Beach',\n",
       "       'Military Installation', 'Shelter-Mission/Homeless', 'Cyberspace',\n",
       "       'Jail/Prison/Penitentiary/Corrections Facility',\n",
       "       'Daycare Facility', 'Tribal Lands'], dtype=object)"
      ]
     },
     "execution_count": 80,
     "metadata": {},
     "output_type": "execute_result"
    }
   ],
   "source": [
    "df_cargo_2['location_name'].unique()"
   ]
  },
  {
   "cell_type": "code",
   "execution_count": 88,
   "id": "d5ffcce7-aa5c-4f52-9ab0-dc9437aa4b38",
   "metadata": {},
   "outputs": [],
   "source": [
    "# school is listed in several different ways. I think it is best to consolidate this\n",
    "df_cargo_2.loc[df_cargo_2['location_name'].isin(['School-College/University', 'School-Elementary/Secondary']), 'location_name'] = 'School/College'"
   ]
  },
  {
   "cell_type": "code",
   "execution_count": 92,
   "id": "5ae729ca-7302-4ffa-80ac-8c2968b69f92",
   "metadata": {},
   "outputs": [
    {
     "data": {
      "text/plain": [
       "array(['Hotel/Motel/Etc.', 'Not Specified', 'Convenience Store',\n",
       "       'Parking/Drop Lot/Garage', 'Highway/Road/Alley/Street/Sidewalk',\n",
       "       'Amusement Park', 'Liquor Store', 'Restaurant', 'Other/Unknown',\n",
       "       'Commercial/Office Building', 'Department/Discount Store',\n",
       "       'Grocery/Supermarket', 'Residence/Home', 'Service/Gas Station',\n",
       "       'Dock/Wharf/Freight/Modal Terminal', 'Specialty Store',\n",
       "       \"Drug Store/Doctor's Office/Hospital\", 'Air/Bus/Train Terminal',\n",
       "       'Field/Woods', 'School/College', 'Abandoned/Condemned Structure',\n",
       "       'Rental Storage Facility', 'Auto Dealership New/Used',\n",
       "       'Bar/Nightclub', 'Government/Public Building',\n",
       "       'Church/Synagogue/Temple/Mosque', 'Construction Site',\n",
       "       'Gambling Facility/Casino/Race Track', 'Camp/Campground',\n",
       "       'ATM Separate from Bank', 'Shopping Mall', 'Farm Facility',\n",
       "       'Park/Playground', 'Bank/Savings and Loan', 'Industrial Site',\n",
       "       'Community Center', 'Rest Area',\n",
       "       'Arena/Stadium/Fairgrounds/Coliseum', 'Lake/Waterway/Beach',\n",
       "       'Military Installation', 'Shelter-Mission/Homeless', 'Cyberspace',\n",
       "       'Jail/Prison/Penitentiary/Corrections Facility',\n",
       "       'Daycare Facility', 'Tribal Lands'], dtype=object)"
      ]
     },
     "execution_count": 92,
     "metadata": {},
     "output_type": "execute_result"
    }
   ],
   "source": [
    "#check my work\n",
    "df_cargo_2['location_name'].unique()"
   ]
  },
  {
   "cell_type": "markdown",
   "id": "96a322fa-9b74-42e8-9dc1-0aaabf8ff32b",
   "metadata": {},
   "source": [
    "## Exporting the code"
   ]
  },
  {
   "cell_type": "code",
   "execution_count": 94,
   "id": "1944336e-b160-4c2d-b2a4-947d145b55fa",
   "metadata": {},
   "outputs": [],
   "source": [
    "# first export as a CSV for later use \n",
    "df_cargo_2.to_csv(os.path.join(path, 'Data Files', 'edited', 'CD_2023_Cleaned_2.csv'))"
   ]
  },
  {
   "cell_type": "code",
   "execution_count": 96,
   "id": "e86e9eaf-6651-42bb-bb25-a728c4fce42d",
   "metadata": {},
   "outputs": [],
   "source": [
    "#to pickel to send for task response\n",
    "df_cargo_2.to_pickle(os.path.join(path,'Tasks', 'CF_6.1', 'CD_2023_Cleaned_2.pkl'))"
   ]
  },
  {
   "cell_type": "code",
   "execution_count": null,
   "id": "c494217b-7bd6-44f2-9b4d-717cad731fce",
   "metadata": {},
   "outputs": [],
   "source": []
  }
 ],
 "metadata": {
  "kernelspec": {
   "display_name": "Python [conda env:base] *",
   "language": "python",
   "name": "conda-base-py"
  },
  "language_info": {
   "codemirror_mode": {
    "name": "ipython",
    "version": 3
   },
   "file_extension": ".py",
   "mimetype": "text/x-python",
   "name": "python",
   "nbconvert_exporter": "python",
   "pygments_lexer": "ipython3",
   "version": "3.12.7"
  }
 },
 "nbformat": 4,
 "nbformat_minor": 5
}
