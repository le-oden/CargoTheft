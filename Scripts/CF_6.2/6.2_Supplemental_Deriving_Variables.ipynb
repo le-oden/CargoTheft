{
 "cells": [
  {
   "cell_type": "markdown",
   "id": "e1a8a9d5-3e0c-412c-84bf-81cf1240bfa6",
   "metadata": {},
   "source": [
    "# Additional data edits to add in numerical variables for data points I would like to examine\n",
    "- Will receive a 1 of true 0 if not.\n",
    "- This will help aid in exploring relationships by turning dimensions into measures"
   ]
  },
  {
   "cell_type": "code",
   "execution_count": 2,
   "id": "32614800-cd2f-4a41-a08f-d117751f1d90",
   "metadata": {},
   "outputs": [],
   "source": [
    "#import libraries\n",
    "import pandas as pd\n",
    "import numpy as np\n",
    "import os"
   ]
  },
  {
   "cell_type": "code",
   "execution_count": 4,
   "id": "a3bcc1d8-efa1-4fdc-af13-5fc822e85e9e",
   "metadata": {},
   "outputs": [],
   "source": [
    "path = r'C:\\Users\\laura\\Documents\\Continuting Education\\Career Foundry\\Advanced Analytics and Dashboards\\Data Analytics Dashboard Project'"
   ]
  },
  {
   "cell_type": "code",
   "execution_count": 6,
   "id": "20220176-68a9-4738-88f9-6f318cc9160f",
   "metadata": {},
   "outputs": [],
   "source": [
    "df_cargo_2 = pd.read_csv(os.path.join(path, 'Data Files', 'edited', 'CD_2023_Cleaned_2.csv'))"
   ]
  },
  {
   "cell_type": "code",
   "execution_count": 136,
   "id": "19ac6d52-f164-4418-b348-a95f57cf6ee0",
   "metadata": {},
   "outputs": [
    {
     "data": {
      "text/html": [
       "<div>\n",
       "<style scoped>\n",
       "    .dataframe tbody tr th:only-of-type {\n",
       "        vertical-align: middle;\n",
       "    }\n",
       "\n",
       "    .dataframe tbody tr th {\n",
       "        vertical-align: top;\n",
       "    }\n",
       "\n",
       "    .dataframe thead th {\n",
       "        text-align: right;\n",
       "    }\n",
       "</style>\n",
       "<table border=\"1\" class=\"dataframe\">\n",
       "  <thead>\n",
       "    <tr style=\"text-align: right;\">\n",
       "      <th></th>\n",
       "      <th>Unnamed: 0</th>\n",
       "      <th>data_year</th>\n",
       "      <th>ori</th>\n",
       "      <th>pub_agency_name</th>\n",
       "      <th>pub_agency_unit</th>\n",
       "      <th>agency_type_name</th>\n",
       "      <th>city_name</th>\n",
       "      <th>state_abbr</th>\n",
       "      <th>state_name</th>\n",
       "      <th>division_name</th>\n",
       "      <th>...</th>\n",
       "      <th>is_biz_victim</th>\n",
       "      <th>is_public_victim</th>\n",
       "      <th>is_prop_desc_other</th>\n",
       "      <th>is_prop_desc_purse</th>\n",
       "      <th>is_prop_desc_money</th>\n",
       "      <th>is_prop_desc_auto</th>\n",
       "      <th>is_prop_desc_tools</th>\n",
       "      <th>is_location_home</th>\n",
       "      <th>is_location_parking_lot</th>\n",
       "      <th>is_location_highway</th>\n",
       "    </tr>\n",
       "  </thead>\n",
       "  <tbody>\n",
       "    <tr>\n",
       "      <th>0</th>\n",
       "      <td>0</td>\n",
       "      <td>2019</td>\n",
       "      <td>NC0900200</td>\n",
       "      <td>Monroe</td>\n",
       "      <td>NaN</td>\n",
       "      <td>City</td>\n",
       "      <td>Monroe</td>\n",
       "      <td>NC</td>\n",
       "      <td>North Carolina</td>\n",
       "      <td>South Atlantic</td>\n",
       "      <td>...</td>\n",
       "      <td>0</td>\n",
       "      <td>0</td>\n",
       "      <td>0</td>\n",
       "      <td>0</td>\n",
       "      <td>0</td>\n",
       "      <td>0</td>\n",
       "      <td>0</td>\n",
       "      <td>0</td>\n",
       "      <td>0</td>\n",
       "      <td>0</td>\n",
       "    </tr>\n",
       "    <tr>\n",
       "      <th>1</th>\n",
       "      <td>1</td>\n",
       "      <td>2012</td>\n",
       "      <td>FL0530000</td>\n",
       "      <td>Polk</td>\n",
       "      <td>NaN</td>\n",
       "      <td>County</td>\n",
       "      <td>NaN</td>\n",
       "      <td>FL</td>\n",
       "      <td>Florida</td>\n",
       "      <td>South Atlantic</td>\n",
       "      <td>...</td>\n",
       "      <td>0</td>\n",
       "      <td>0</td>\n",
       "      <td>0</td>\n",
       "      <td>0</td>\n",
       "      <td>0</td>\n",
       "      <td>0</td>\n",
       "      <td>0</td>\n",
       "      <td>0</td>\n",
       "      <td>0</td>\n",
       "      <td>0</td>\n",
       "    </tr>\n",
       "    <tr>\n",
       "      <th>2</th>\n",
       "      <td>2</td>\n",
       "      <td>2012</td>\n",
       "      <td>FL0530000</td>\n",
       "      <td>Polk</td>\n",
       "      <td>NaN</td>\n",
       "      <td>County</td>\n",
       "      <td>NaN</td>\n",
       "      <td>FL</td>\n",
       "      <td>Florida</td>\n",
       "      <td>South Atlantic</td>\n",
       "      <td>...</td>\n",
       "      <td>0</td>\n",
       "      <td>0</td>\n",
       "      <td>0</td>\n",
       "      <td>0</td>\n",
       "      <td>0</td>\n",
       "      <td>0</td>\n",
       "      <td>0</td>\n",
       "      <td>0</td>\n",
       "      <td>0</td>\n",
       "      <td>0</td>\n",
       "    </tr>\n",
       "    <tr>\n",
       "      <th>3</th>\n",
       "      <td>11</td>\n",
       "      <td>2012</td>\n",
       "      <td>SC0150000</td>\n",
       "      <td>Colleton</td>\n",
       "      <td>NaN</td>\n",
       "      <td>County</td>\n",
       "      <td>NaN</td>\n",
       "      <td>SC</td>\n",
       "      <td>South Carolina</td>\n",
       "      <td>South Atlantic</td>\n",
       "      <td>...</td>\n",
       "      <td>0</td>\n",
       "      <td>0</td>\n",
       "      <td>0</td>\n",
       "      <td>0</td>\n",
       "      <td>0</td>\n",
       "      <td>0</td>\n",
       "      <td>0</td>\n",
       "      <td>0</td>\n",
       "      <td>1</td>\n",
       "      <td>0</td>\n",
       "    </tr>\n",
       "    <tr>\n",
       "      <th>4</th>\n",
       "      <td>12</td>\n",
       "      <td>2020</td>\n",
       "      <td>FL0139700</td>\n",
       "      <td>Miami Gardens</td>\n",
       "      <td>NaN</td>\n",
       "      <td>City</td>\n",
       "      <td>Miami Gardens</td>\n",
       "      <td>FL</td>\n",
       "      <td>Florida</td>\n",
       "      <td>South Atlantic</td>\n",
       "      <td>...</td>\n",
       "      <td>1</td>\n",
       "      <td>0</td>\n",
       "      <td>0</td>\n",
       "      <td>0</td>\n",
       "      <td>0</td>\n",
       "      <td>0</td>\n",
       "      <td>0</td>\n",
       "      <td>0</td>\n",
       "      <td>0</td>\n",
       "      <td>1</td>\n",
       "    </tr>\n",
       "  </tbody>\n",
       "</table>\n",
       "<p>5 rows × 46 columns</p>\n",
       "</div>"
      ],
      "text/plain": [
       "   Unnamed: 0  data_year        ori pub_agency_name pub_agency_unit  \\\n",
       "0           0       2019  NC0900200          Monroe             NaN   \n",
       "1           1       2012  FL0530000            Polk             NaN   \n",
       "2           2       2012  FL0530000            Polk             NaN   \n",
       "3          11       2012  SC0150000        Colleton             NaN   \n",
       "4          12       2020  FL0139700   Miami Gardens             NaN   \n",
       "\n",
       "  agency_type_name      city_name state_abbr      state_name   division_name  \\\n",
       "0             City         Monroe         NC  North Carolina  South Atlantic   \n",
       "1           County            NaN         FL         Florida  South Atlantic   \n",
       "2           County            NaN         FL         Florida  South Atlantic   \n",
       "3           County            NaN         SC  South Carolina  South Atlantic   \n",
       "4             City  Miami Gardens         FL         Florida  South Atlantic   \n",
       "\n",
       "   ... is_biz_victim is_public_victim is_prop_desc_other is_prop_desc_purse  \\\n",
       "0  ...             0                0                  0                  0   \n",
       "1  ...             0                0                  0                  0   \n",
       "2  ...             0                0                  0                  0   \n",
       "3  ...             0                0                  0                  0   \n",
       "4  ...             1                0                  0                  0   \n",
       "\n",
       "  is_prop_desc_money is_prop_desc_auto is_prop_desc_tools is_location_home  \\\n",
       "0                  0                 0                  0                0   \n",
       "1                  0                 0                  0                0   \n",
       "2                  0                 0                  0                0   \n",
       "3                  0                 0                  0                0   \n",
       "4                  0                 0                  0                0   \n",
       "\n",
       "  is_location_parking_lot  is_location_highway  \n",
       "0                       0                    0  \n",
       "1                       0                    0  \n",
       "2                       0                    0  \n",
       "3                       1                    0  \n",
       "4                       0                    1  \n",
       "\n",
       "[5 rows x 46 columns]"
      ]
     },
     "execution_count": 136,
     "metadata": {},
     "output_type": "execute_result"
    }
   ],
   "source": [
    "df_cargo_2.head()"
   ]
  },
  {
   "cell_type": "code",
   "execution_count": 10,
   "id": "e33b680e-cbc4-4031-82a9-bca9fa71abc3",
   "metadata": {},
   "outputs": [],
   "source": [
    "#add in code for agency type\n",
    "result_city = []\n",
    "\n",
    "for value in df_cargo_2[\"agency_type_name\"]:\n",
    "  if value == 'City':\n",
    "    result_city.append(1)\n",
    "  else: result_city.append(0)"
   ]
  },
  {
   "cell_type": "code",
   "execution_count": 12,
   "id": "c59755db-0ee4-496e-9f05-ba2b16e02039",
   "metadata": {},
   "outputs": [],
   "source": [
    "df_cargo_2['is_city'] = result_city"
   ]
  },
  {
   "cell_type": "code",
   "execution_count": 14,
   "id": "a3e9d810-57ae-4f69-9927-8f956f53b50e",
   "metadata": {},
   "outputs": [
    {
     "data": {
      "text/plain": [
       "is_city\n",
       "1    130863\n",
       "0     59285\n",
       "Name: count, dtype: int64"
      ]
     },
     "execution_count": 14,
     "metadata": {},
     "output_type": "execute_result"
    }
   ],
   "source": [
    "df_cargo_2['is_city'].value_counts()"
   ]
  },
  {
   "cell_type": "code",
   "execution_count": 16,
   "id": "629e414e-bdf7-427d-8c7e-4c2f36f93d8b",
   "metadata": {},
   "outputs": [],
   "source": [
    "#add code for agency type = county\n",
    "result_county = []\n",
    "\n",
    "for value in df_cargo_2[\"agency_type_name\"]:\n",
    "  if value == 'County':\n",
    "    result_county.append(1)\n",
    "  else: result_county.append(0)"
   ]
  },
  {
   "cell_type": "code",
   "execution_count": 18,
   "id": "0cb075a0-3781-44f0-8e05-dd8f118459fa",
   "metadata": {},
   "outputs": [],
   "source": [
    "df_cargo_2['is_county'] = result_county"
   ]
  },
  {
   "cell_type": "code",
   "execution_count": 20,
   "id": "6befbd9a-4dc5-4810-9cca-ef45388d07f0",
   "metadata": {},
   "outputs": [
    {
     "data": {
      "text/plain": [
       "is_county\n",
       "0    136796\n",
       "1     53352\n",
       "Name: count, dtype: int64"
      ]
     },
     "execution_count": 20,
     "metadata": {},
     "output_type": "execute_result"
    }
   ],
   "source": [
    "df_cargo_2['is_county'].value_counts()"
   ]
  },
  {
   "cell_type": "code",
   "execution_count": 22,
   "id": "eb0a84ad-f766-48cb-ba1c-bc05725b9f64",
   "metadata": {},
   "outputs": [],
   "source": [
    "#add code for agency type = federal\n",
    "result_federal = []\n",
    "\n",
    "for value in df_cargo_2[\"agency_type_name\"]:\n",
    "  if value == 'Federal':\n",
    "    result_federal.append(1)\n",
    "  else: result_federal.append(0)"
   ]
  },
  {
   "cell_type": "code",
   "execution_count": 24,
   "id": "f55dd9d4-90bd-45e8-8ac6-eb6db8868e6d",
   "metadata": {},
   "outputs": [],
   "source": [
    "df_cargo_2['is_federal'] = result_federal"
   ]
  },
  {
   "cell_type": "code",
   "execution_count": 26,
   "id": "ab553255-bc78-4cef-b1c8-8b334167a31a",
   "metadata": {},
   "outputs": [
    {
     "data": {
      "text/plain": [
       "is_federal\n",
       "0    189598\n",
       "1       550\n",
       "Name: count, dtype: int64"
      ]
     },
     "execution_count": 26,
     "metadata": {},
     "output_type": "execute_result"
    }
   ],
   "source": [
    "df_cargo_2['is_federal'].value_counts()"
   ]
  },
  {
   "cell_type": "code",
   "execution_count": 28,
   "id": "030aea6c-a723-4e35-94ec-4a6869b34a62",
   "metadata": {},
   "outputs": [],
   "source": [
    "#add code for school or university\n",
    "\n",
    "result_college = []\n",
    "\n",
    "for value in df_cargo_2[\"agency_type_name\"]:\n",
    "  if value == 'University or College':\n",
    "    result_college.append(1)\n",
    "  else: result_college.append(0)\n"
   ]
  },
  {
   "cell_type": "code",
   "execution_count": 30,
   "id": "3f945cf8-a8a2-4487-b115-0cffc19a4208",
   "metadata": {},
   "outputs": [],
   "source": [
    "df_cargo_2['is_college'] = result_college"
   ]
  },
  {
   "cell_type": "code",
   "execution_count": 32,
   "id": "a45fb02b-797f-414d-8fa8-14f75d9e7e6a",
   "metadata": {},
   "outputs": [
    {
     "data": {
      "text/plain": [
       "is_college\n",
       "0    188555\n",
       "1      1593\n",
       "Name: count, dtype: int64"
      ]
     },
     "execution_count": 32,
     "metadata": {},
     "output_type": "execute_result"
    }
   ],
   "source": [
    "df_cargo_2['is_college'].value_counts()"
   ]
  },
  {
   "cell_type": "code",
   "execution_count": 34,
   "id": "ba2a4c83-c0d0-4780-8955-17bb7cc6d232",
   "metadata": {},
   "outputs": [],
   "source": [
    "#Is the state Florida\n",
    "result_florida = []\n",
    "\n",
    "for value in df_cargo_2[\"state_name\"]:\n",
    "  if value == 'Florida':\n",
    "    result_florida.append(1)\n",
    "  else: result_florida.append(0)"
   ]
  },
  {
   "cell_type": "code",
   "execution_count": 36,
   "id": "bcc44465-62ef-45cc-bbf9-7c0130e3e449",
   "metadata": {},
   "outputs": [],
   "source": [
    "df_cargo_2['is_florida'] = result_florida"
   ]
  },
  {
   "cell_type": "code",
   "execution_count": 38,
   "id": "a3b3a9b0-d3b3-44e9-af8f-bd62a8550624",
   "metadata": {},
   "outputs": [
    {
     "data": {
      "text/plain": [
       "is_florida\n",
       "0    184375\n",
       "1      5773\n",
       "Name: count, dtype: int64"
      ]
     },
     "execution_count": 38,
     "metadata": {},
     "output_type": "execute_result"
    }
   ],
   "source": [
    "df_cargo_2['is_florida'].value_counts()"
   ]
  },
  {
   "cell_type": "code",
   "execution_count": 40,
   "id": "987b2e86-8651-4f15-97b0-79de322d7ef5",
   "metadata": {},
   "outputs": [],
   "source": [
    "#making recovery a 1 or a 0\n",
    "result_recovery = []\n",
    "\n",
    "for value in df_cargo_2[\"recovered_flag\"]:\n",
    "  if value == False:\n",
    "    result_recovery.append(0)\n",
    "  else: result_recovery.append(1)"
   ]
  },
  {
   "cell_type": "code",
   "execution_count": 42,
   "id": "d670f2b0-2cc1-4099-8e0c-d16fa2bba623",
   "metadata": {},
   "outputs": [],
   "source": [
    "df_cargo_2['is_recovered'] = result_recovery"
   ]
  },
  {
   "cell_type": "code",
   "execution_count": 44,
   "id": "1a462626-2a8e-48a8-a9b2-8831362bb6ae",
   "metadata": {},
   "outputs": [
    {
     "data": {
      "text/plain": [
       "is_recovered\n",
       "0    159308\n",
       "1     30840\n",
       "Name: count, dtype: int64"
      ]
     },
     "execution_count": 44,
     "metadata": {},
     "output_type": "execute_result"
    }
   ],
   "source": [
    "df_cargo_2['is_recovered'].value_counts()"
   ]
  },
  {
   "cell_type": "code",
   "execution_count": 46,
   "id": "d2eb1c95-d8d2-44d0-b4a4-4e9f06749012",
   "metadata": {},
   "outputs": [
    {
     "data": {
      "text/plain": [
       "victim_type_name\n",
       "Individual                 135075\n",
       "Business                    46029\n",
       "Society/Public               5380\n",
       "Government                   1701\n",
       "Other                         761\n",
       "Financial Institution         361\n",
       "Unknown                       357\n",
       "Religious Organization        318\n",
       "Law Enforcement Officer       166\n",
       "Name: count, dtype: int64"
      ]
     },
     "execution_count": 46,
     "metadata": {},
     "output_type": "execute_result"
    }
   ],
   "source": [
    "#other variables that I should segment out?\n",
    "#yes individual and business\n",
    "df_cargo_2['victim_type_name'].value_counts()"
   ]
  },
  {
   "cell_type": "code",
   "execution_count": 48,
   "id": "7b153fdc-8a02-401b-874f-ab19275b1922",
   "metadata": {},
   "outputs": [],
   "source": [
    "result_indv = []\n",
    "\n",
    "for value in df_cargo_2[\"victim_type_name\"]:\n",
    "  if value == 'Individual':\n",
    "    result_indv.append(1)\n",
    "  else: result_indv.append(0)"
   ]
  },
  {
   "cell_type": "code",
   "execution_count": 50,
   "id": "300e4905-9b26-4f06-af2f-d075a86b6f52",
   "metadata": {},
   "outputs": [],
   "source": [
    "df_cargo_2['is_indv_victim'] = result_indv"
   ]
  },
  {
   "cell_type": "code",
   "execution_count": 52,
   "id": "0ecd02b2-219a-47c2-9450-0e6d96e48bad",
   "metadata": {},
   "outputs": [
    {
     "data": {
      "text/plain": [
       "is_indv_victim\n",
       "1    135075\n",
       "0     55073\n",
       "Name: count, dtype: int64"
      ]
     },
     "execution_count": 52,
     "metadata": {},
     "output_type": "execute_result"
    }
   ],
   "source": [
    "df_cargo_2['is_indv_victim'].value_counts()"
   ]
  },
  {
   "cell_type": "code",
   "execution_count": 66,
   "id": "ca1b8c9a-9925-4fc1-b743-329e6031bfbd",
   "metadata": {},
   "outputs": [],
   "source": [
    "result_biz = []\n",
    "\n",
    "for value in df_cargo_2[\"victim_type_name\"]:\n",
    "  if value == 'Business':\n",
    "    result_biz.append(1)\n",
    "  else: result_biz.append(0)"
   ]
  },
  {
   "cell_type": "code",
   "execution_count": 68,
   "id": "431e9ac3-e0f9-45d0-abb0-3fc0c16235c7",
   "metadata": {},
   "outputs": [],
   "source": [
    "df_cargo_2['is_biz_victim'] = result_biz"
   ]
  },
  {
   "cell_type": "code",
   "execution_count": 70,
   "id": "e9200f9c-f6ae-4dc6-9918-7e3986d58c9e",
   "metadata": {},
   "outputs": [
    {
     "data": {
      "text/plain": [
       "is_biz_victim\n",
       "0    144119\n",
       "1     46029\n",
       "Name: count, dtype: int64"
      ]
     },
     "execution_count": 70,
     "metadata": {},
     "output_type": "execute_result"
    }
   ],
   "source": [
    "df_cargo_2['is_biz_victim'].value_counts()"
   ]
  },
  {
   "cell_type": "code",
   "execution_count": 72,
   "id": "96541817-6e8a-4f86-9648-f1441503dfee",
   "metadata": {},
   "outputs": [],
   "source": [
    "result_society = []\n",
    "\n",
    "for value in df_cargo_2[\"victim_type_name\"]:\n",
    "  if value == 'Society/Public':\n",
    "    result_society.append(1)\n",
    "  else: result_society.append(0)"
   ]
  },
  {
   "cell_type": "code",
   "execution_count": 74,
   "id": "4ed3e759-428f-4df6-8033-222794ed5a41",
   "metadata": {},
   "outputs": [],
   "source": [
    "df_cargo_2['is_public_victim'] = result_society"
   ]
  },
  {
   "cell_type": "code",
   "execution_count": 78,
   "id": "84b270bd-fc04-49b7-8dd2-b927ea044463",
   "metadata": {},
   "outputs": [
    {
     "data": {
      "text/plain": [
       "is_public_victim\n",
       "0    184768\n",
       "1      5380\n",
       "Name: count, dtype: int64"
      ]
     },
     "execution_count": 78,
     "metadata": {},
     "output_type": "execute_result"
    }
   ],
   "source": [
    "df_cargo_2['is_public_victim'].value_counts()"
   ]
  },
  {
   "cell_type": "code",
   "execution_count": 105,
   "id": "6725c2c9-050b-44be-ae10-5f8a74c32006",
   "metadata": {},
   "outputs": [
    {
     "data": {
      "text/plain": [
       "prop_desc_name\n",
       "Other                          31719\n",
       "Money                          22037\n",
       "Automobile                     14984\n",
       "Tools                          12080\n",
       "Purse/ Wallet                  10175\n",
       "                               ...  \n",
       "Aircraft                          25\n",
       "Structure/ Other residence        24\n",
       "Structure/ Other commercial       18\n",
       "Structure/ Other industrial       16\n",
       "Structure/ Public                 10\n",
       "Name: count, Length: 63, dtype: int64"
      ]
     },
     "execution_count": 105,
     "metadata": {},
     "output_type": "execute_result"
    }
   ],
   "source": [
    "df_cargo_2['prop_desc_name'].value_counts()"
   ]
  },
  {
   "cell_type": "code",
   "execution_count": 80,
   "id": "62063b2a-9b4c-4491-bb2c-f97f867c7dce",
   "metadata": {},
   "outputs": [],
   "source": [
    "result_other = []\n",
    "\n",
    "for value in df_cargo_2[\"prop_desc_name\"]:\n",
    "  if value == 'Other':\n",
    "    result_other.append(1)\n",
    "  else: result_other.append(0)"
   ]
  },
  {
   "cell_type": "code",
   "execution_count": 82,
   "id": "69961921-7e23-4b69-a5f3-8cba024a701d",
   "metadata": {},
   "outputs": [],
   "source": [
    "df_cargo_2['is_prop_desc_other'] = result_other"
   ]
  },
  {
   "cell_type": "code",
   "execution_count": 84,
   "id": "fb352bea-7566-4ad5-8e84-9b61c9646e97",
   "metadata": {},
   "outputs": [
    {
     "data": {
      "text/plain": [
       "is_prop_desc_other\n",
       "0    158429\n",
       "1     31719\n",
       "Name: count, dtype: int64"
      ]
     },
     "execution_count": 84,
     "metadata": {},
     "output_type": "execute_result"
    }
   ],
   "source": [
    "df_cargo_2['is_prop_desc_other'].value_counts()"
   ]
  },
  {
   "cell_type": "code",
   "execution_count": 86,
   "id": "89682880-a820-4a57-afd3-b049feec66ee",
   "metadata": {},
   "outputs": [],
   "source": [
    "result_purse = []\n",
    "\n",
    "for value in df_cargo_2[\"prop_desc_name\"]:\n",
    "  if value == 'Purse/ Wallet':\n",
    "    result_purse.append(1)\n",
    "  else: result_purse.append(0)"
   ]
  },
  {
   "cell_type": "code",
   "execution_count": 90,
   "id": "c6810243-39db-411a-9cbc-c4d524c3c2c0",
   "metadata": {},
   "outputs": [],
   "source": [
    "df_cargo_2['is_prop_desc_purse'] = result_purse"
   ]
  },
  {
   "cell_type": "code",
   "execution_count": 92,
   "id": "24386e40-d254-4a99-a3e8-5bec973646e7",
   "metadata": {},
   "outputs": [
    {
     "data": {
      "text/plain": [
       "is_prop_desc_purse\n",
       "0    179973\n",
       "1     10175\n",
       "Name: count, dtype: int64"
      ]
     },
     "execution_count": 92,
     "metadata": {},
     "output_type": "execute_result"
    }
   ],
   "source": [
    "df_cargo_2['is_prop_desc_purse'].value_counts()"
   ]
  },
  {
   "cell_type": "code",
   "execution_count": 94,
   "id": "31d5c937-482a-4487-8755-3983443c157e",
   "metadata": {},
   "outputs": [],
   "source": [
    "result_money = []\n",
    "\n",
    "for value in df_cargo_2[\"prop_desc_name\"]:\n",
    "  if value == 'Money':\n",
    "    result_money.append(1)\n",
    "  else: result_money.append(0)"
   ]
  },
  {
   "cell_type": "code",
   "execution_count": 96,
   "id": "ea60c736-c7a1-4025-8a66-a1c0bbd71593",
   "metadata": {},
   "outputs": [],
   "source": [
    "df_cargo_2['is_prop_desc_money'] = result_money"
   ]
  },
  {
   "cell_type": "code",
   "execution_count": 98,
   "id": "d9d4b27a-94b7-46fb-a8d2-2efcea983004",
   "metadata": {},
   "outputs": [
    {
     "data": {
      "text/plain": [
       "is_prop_desc_money\n",
       "0    168111\n",
       "1     22037\n",
       "Name: count, dtype: int64"
      ]
     },
     "execution_count": 98,
     "metadata": {},
     "output_type": "execute_result"
    }
   ],
   "source": [
    "df_cargo_2['is_prop_desc_money'].value_counts()"
   ]
  },
  {
   "cell_type": "code",
   "execution_count": 100,
   "id": "eb35d4f8-32a3-4fc6-b9ee-00bb4d18bf5b",
   "metadata": {},
   "outputs": [],
   "source": [
    "result_auto = []\n",
    "\n",
    "for value in df_cargo_2[\"prop_desc_name\"]:\n",
    "  if value == 'Automobile':\n",
    "    result_auto.append(1)\n",
    "  else: result_auto.append(0)"
   ]
  },
  {
   "cell_type": "code",
   "execution_count": 102,
   "id": "03cfd453-e454-4e97-97e2-150da7b484a0",
   "metadata": {},
   "outputs": [],
   "source": [
    "df_cargo_2['is_prop_desc_auto'] = result_auto"
   ]
  },
  {
   "cell_type": "code",
   "execution_count": 104,
   "id": "469ce53c-9462-467e-8a7d-74122e32745a",
   "metadata": {},
   "outputs": [
    {
     "data": {
      "text/plain": [
       "is_prop_desc_auto\n",
       "0    175164\n",
       "1     14984\n",
       "Name: count, dtype: int64"
      ]
     },
     "execution_count": 104,
     "metadata": {},
     "output_type": "execute_result"
    }
   ],
   "source": [
    "df_cargo_2['is_prop_desc_auto'].value_counts()"
   ]
  },
  {
   "cell_type": "code",
   "execution_count": 106,
   "id": "2573122c-a4e0-42b6-97a8-e31a6d7b45db",
   "metadata": {},
   "outputs": [],
   "source": [
    "result_tools = []\n",
    "\n",
    "for value in df_cargo_2[\"prop_desc_name\"]:\n",
    "  if value == 'Tools':\n",
    "    result_tools.append(1)\n",
    "  else: result_tools.append(0)"
   ]
  },
  {
   "cell_type": "code",
   "execution_count": 108,
   "id": "1a46edc7-313b-4588-bfa0-49155c824781",
   "metadata": {},
   "outputs": [],
   "source": [
    "df_cargo_2['is_prop_desc_tools'] = result_tools"
   ]
  },
  {
   "cell_type": "code",
   "execution_count": 110,
   "id": "6e54a498-a30b-482f-bde4-07dba9c13217",
   "metadata": {},
   "outputs": [
    {
     "data": {
      "text/plain": [
       "is_prop_desc_tools\n",
       "0    178068\n",
       "1     12080\n",
       "Name: count, dtype: int64"
      ]
     },
     "execution_count": 110,
     "metadata": {},
     "output_type": "execute_result"
    }
   ],
   "source": [
    "df_cargo_2['is_prop_desc_tools'].value_counts()"
   ]
  },
  {
   "cell_type": "code",
   "execution_count": 114,
   "id": "d95f0c1e-d41b-4ec4-aa11-95eadf116ce3",
   "metadata": {},
   "outputs": [
    {
     "data": {
      "text/plain": [
       "location_name\n",
       "Residence/Home                                   65873\n",
       "Parking/Drop Lot/Garage                          31418\n",
       "Highway/Road/Alley/Street/Sidewalk               20774\n",
       "Other/Unknown                                    11687\n",
       "Commercial/Office Building                        8132\n",
       "Convenience Store                                 4632\n",
       "Department/Discount Store                         4296\n",
       "Service/Gas Station                               4048\n",
       "Specialty Store                                   3986\n",
       "Hotel/Motel/Etc.                                  3944\n",
       "Rental Storage Facility                           3807\n",
       "Restaurant                                        3186\n",
       "Grocery/Supermarket                               2408\n",
       "Construction Site                                 2372\n",
       "Industrial Site                                   1948\n",
       "School/College                                    1890\n",
       "Park/Playground                                   1475\n",
       "Dock/Wharf/Freight/Modal Terminal                 1400\n",
       "Government/Public Building                        1389\n",
       "Field/Woods                                       1174\n",
       "Auto Dealership New/Used                          1139\n",
       "Drug Store/Doctor's Office/Hospital               1078\n",
       "Air/Bus/Train Terminal                            1058\n",
       "Bank/Savings and Loan                              932\n",
       "Church/Synagogue/Temple/Mosque                     875\n",
       "Bar/Nightclub                                      776\n",
       "Shopping Mall                                      608\n",
       "Not Specified                                      567\n",
       "Farm Facility                                      561\n",
       "Gambling Facility/Casino/Race Track                560\n",
       "Liquor Store                                       342\n",
       "Cyberspace                                         336\n",
       "Camp/Campground                                    296\n",
       "Lake/Waterway/Beach                                165\n",
       "Community Center                                   152\n",
       "Amusement Park                                     148\n",
       "Abandoned/Condemned Structure                      138\n",
       "ATM Separate from Bank                             126\n",
       "Rest Area                                          112\n",
       "Jail/Prison/Penitentiary/Corrections Facility      103\n",
       "Arena/Stadium/Fairgrounds/Coliseum                  85\n",
       "Daycare Facility                                    76\n",
       "Shelter-Mission/Homeless                            49\n",
       "Tribal Lands                                        15\n",
       "Military Installation                               12\n",
       "Name: count, dtype: int64"
      ]
     },
     "execution_count": 114,
     "metadata": {},
     "output_type": "execute_result"
    }
   ],
   "source": [
    "df_cargo_2['location_name'].value_counts()"
   ]
  },
  {
   "cell_type": "code",
   "execution_count": 116,
   "id": "f25df6b7-ddbd-4317-b57d-6316589608d6",
   "metadata": {},
   "outputs": [],
   "source": [
    "result_home = []\n",
    "\n",
    "for value in df_cargo_2[\"location_name\"]:\n",
    "  if value == 'Residence/Home':\n",
    "    result_home.append(1)\n",
    "  else: result_home.append(0)"
   ]
  },
  {
   "cell_type": "code",
   "execution_count": 120,
   "id": "ec6cb1b5-8d68-4094-a2f1-3f8032ba280b",
   "metadata": {},
   "outputs": [],
   "source": [
    "df_cargo_2['is_location_home'] = result_home"
   ]
  },
  {
   "cell_type": "code",
   "execution_count": 122,
   "id": "572e9920-4482-4d61-a0df-b07ec17a83ca",
   "metadata": {},
   "outputs": [
    {
     "data": {
      "text/plain": [
       "is_location_home\n",
       "0    124275\n",
       "1     65873\n",
       "Name: count, dtype: int64"
      ]
     },
     "execution_count": 122,
     "metadata": {},
     "output_type": "execute_result"
    }
   ],
   "source": [
    "df_cargo_2['is_location_home'].value_counts()"
   ]
  },
  {
   "cell_type": "code",
   "execution_count": 124,
   "id": "6771396d-7bea-49e2-9a80-564dfdf4d59c",
   "metadata": {},
   "outputs": [],
   "source": [
    "result_parking = []\n",
    "\n",
    "for value in df_cargo_2[\"location_name\"]:\n",
    "  if value == 'Parking/Drop Lot/Garage':\n",
    "    result_parking.append(1)\n",
    "  else: result_parking.append(0)"
   ]
  },
  {
   "cell_type": "code",
   "execution_count": 126,
   "id": "743e893a-e0d6-47d1-8159-20db25f710b2",
   "metadata": {},
   "outputs": [],
   "source": [
    "df_cargo_2['is_location_parking_lot'] = result_parking"
   ]
  },
  {
   "cell_type": "code",
   "execution_count": 128,
   "id": "d435ae50-a738-44f5-a2e7-2421bb2b1179",
   "metadata": {},
   "outputs": [
    {
     "data": {
      "text/plain": [
       "is_location_parking_lot\n",
       "0    158730\n",
       "1     31418\n",
       "Name: count, dtype: int64"
      ]
     },
     "execution_count": 128,
     "metadata": {},
     "output_type": "execute_result"
    }
   ],
   "source": [
    "df_cargo_2['is_location_parking_lot'].value_counts()"
   ]
  },
  {
   "cell_type": "code",
   "execution_count": 130,
   "id": "d272239f-5443-4b08-9c38-41e1a360b37c",
   "metadata": {},
   "outputs": [],
   "source": [
    "result_highway = []\n",
    "\n",
    "for value in df_cargo_2[\"location_name\"]:\n",
    "  if value == 'Highway/Road/Alley/Street/Sidewalk':\n",
    "    result_highway.append(1)\n",
    "  else: result_highway.append(0)"
   ]
  },
  {
   "cell_type": "code",
   "execution_count": 132,
   "id": "529238ad-739f-4114-a0d7-ce85471f3059",
   "metadata": {},
   "outputs": [],
   "source": [
    "df_cargo_2['is_location_highway'] = result_highway"
   ]
  },
  {
   "cell_type": "code",
   "execution_count": 134,
   "id": "3b2a525a-1242-483c-a34f-51a43d7275c1",
   "metadata": {},
   "outputs": [
    {
     "data": {
      "text/plain": [
       "is_location_highway\n",
       "0    169374\n",
       "1     20774\n",
       "Name: count, dtype: int64"
      ]
     },
     "execution_count": 134,
     "metadata": {},
     "output_type": "execute_result"
    }
   ],
   "source": [
    "df_cargo_2['is_location_highway'].value_counts()"
   ]
  },
  {
   "cell_type": "code",
   "execution_count": 138,
   "id": "2882dc50-2bfd-486e-8af1-0d1a56fb9333",
   "metadata": {},
   "outputs": [
    {
     "data": {
      "text/plain": [
       "offender_sex\n",
       "M    62845\n",
       "F    16814\n",
       "Name: count, dtype: int64"
      ]
     },
     "execution_count": 138,
     "metadata": {},
     "output_type": "execute_result"
    }
   ],
   "source": [
    "df_cargo_2['offender_sex'].value_counts()\t"
   ]
  },
  {
   "cell_type": "code",
   "execution_count": 140,
   "id": "b683ba52-418a-4593-a50e-59df4cd30222",
   "metadata": {},
   "outputs": [],
   "source": [
    "result_male = []\n",
    "\n",
    "for value in df_cargo_2[\"offender_sex\"]:\n",
    "  if value == 'M':\n",
    "    result_male.append(1)\n",
    "  else: result_male.append(0)"
   ]
  },
  {
   "cell_type": "code",
   "execution_count": 142,
   "id": "5044151f-4628-4f1b-9c96-81f48bb871d8",
   "metadata": {},
   "outputs": [],
   "source": [
    "df_cargo_2['is_perp_male'] = result_male"
   ]
  },
  {
   "cell_type": "code",
   "execution_count": 144,
   "id": "40b9aeb1-7e27-49b8-96e4-7c477f775d22",
   "metadata": {},
   "outputs": [
    {
     "data": {
      "text/plain": [
       "is_perp_male\n",
       "0    127303\n",
       "1     62845\n",
       "Name: count, dtype: int64"
      ]
     },
     "execution_count": 144,
     "metadata": {},
     "output_type": "execute_result"
    }
   ],
   "source": [
    "df_cargo_2['is_perp_male'].value_counts()"
   ]
  },
  {
   "cell_type": "code",
   "execution_count": 146,
   "id": "ef80009d-43db-406e-bbed-ef5b28b2264d",
   "metadata": {},
   "outputs": [
    {
     "data": {
      "text/html": [
       "<div>\n",
       "<style scoped>\n",
       "    .dataframe tbody tr th:only-of-type {\n",
       "        vertical-align: middle;\n",
       "    }\n",
       "\n",
       "    .dataframe tbody tr th {\n",
       "        vertical-align: top;\n",
       "    }\n",
       "\n",
       "    .dataframe thead th {\n",
       "        text-align: right;\n",
       "    }\n",
       "</style>\n",
       "<table border=\"1\" class=\"dataframe\">\n",
       "  <thead>\n",
       "    <tr style=\"text-align: right;\">\n",
       "      <th></th>\n",
       "      <th>Unnamed: 0</th>\n",
       "      <th>data_year</th>\n",
       "      <th>ori</th>\n",
       "      <th>pub_agency_name</th>\n",
       "      <th>pub_agency_unit</th>\n",
       "      <th>agency_type_name</th>\n",
       "      <th>city_name</th>\n",
       "      <th>state_abbr</th>\n",
       "      <th>state_name</th>\n",
       "      <th>division_name</th>\n",
       "      <th>...</th>\n",
       "      <th>is_public_victim</th>\n",
       "      <th>is_prop_desc_other</th>\n",
       "      <th>is_prop_desc_purse</th>\n",
       "      <th>is_prop_desc_money</th>\n",
       "      <th>is_prop_desc_auto</th>\n",
       "      <th>is_prop_desc_tools</th>\n",
       "      <th>is_location_home</th>\n",
       "      <th>is_location_parking_lot</th>\n",
       "      <th>is_location_highway</th>\n",
       "      <th>is_perp_male</th>\n",
       "    </tr>\n",
       "  </thead>\n",
       "  <tbody>\n",
       "    <tr>\n",
       "      <th>0</th>\n",
       "      <td>0</td>\n",
       "      <td>2019</td>\n",
       "      <td>NC0900200</td>\n",
       "      <td>Monroe</td>\n",
       "      <td>NaN</td>\n",
       "      <td>City</td>\n",
       "      <td>Monroe</td>\n",
       "      <td>NC</td>\n",
       "      <td>North Carolina</td>\n",
       "      <td>South Atlantic</td>\n",
       "      <td>...</td>\n",
       "      <td>0</td>\n",
       "      <td>0</td>\n",
       "      <td>0</td>\n",
       "      <td>0</td>\n",
       "      <td>0</td>\n",
       "      <td>0</td>\n",
       "      <td>0</td>\n",
       "      <td>0</td>\n",
       "      <td>0</td>\n",
       "      <td>0</td>\n",
       "    </tr>\n",
       "    <tr>\n",
       "      <th>1</th>\n",
       "      <td>1</td>\n",
       "      <td>2012</td>\n",
       "      <td>FL0530000</td>\n",
       "      <td>Polk</td>\n",
       "      <td>NaN</td>\n",
       "      <td>County</td>\n",
       "      <td>NaN</td>\n",
       "      <td>FL</td>\n",
       "      <td>Florida</td>\n",
       "      <td>South Atlantic</td>\n",
       "      <td>...</td>\n",
       "      <td>0</td>\n",
       "      <td>0</td>\n",
       "      <td>0</td>\n",
       "      <td>0</td>\n",
       "      <td>0</td>\n",
       "      <td>0</td>\n",
       "      <td>0</td>\n",
       "      <td>0</td>\n",
       "      <td>0</td>\n",
       "      <td>0</td>\n",
       "    </tr>\n",
       "    <tr>\n",
       "      <th>2</th>\n",
       "      <td>2</td>\n",
       "      <td>2012</td>\n",
       "      <td>FL0530000</td>\n",
       "      <td>Polk</td>\n",
       "      <td>NaN</td>\n",
       "      <td>County</td>\n",
       "      <td>NaN</td>\n",
       "      <td>FL</td>\n",
       "      <td>Florida</td>\n",
       "      <td>South Atlantic</td>\n",
       "      <td>...</td>\n",
       "      <td>0</td>\n",
       "      <td>0</td>\n",
       "      <td>0</td>\n",
       "      <td>0</td>\n",
       "      <td>0</td>\n",
       "      <td>0</td>\n",
       "      <td>0</td>\n",
       "      <td>0</td>\n",
       "      <td>0</td>\n",
       "      <td>0</td>\n",
       "    </tr>\n",
       "    <tr>\n",
       "      <th>3</th>\n",
       "      <td>11</td>\n",
       "      <td>2012</td>\n",
       "      <td>SC0150000</td>\n",
       "      <td>Colleton</td>\n",
       "      <td>NaN</td>\n",
       "      <td>County</td>\n",
       "      <td>NaN</td>\n",
       "      <td>SC</td>\n",
       "      <td>South Carolina</td>\n",
       "      <td>South Atlantic</td>\n",
       "      <td>...</td>\n",
       "      <td>0</td>\n",
       "      <td>0</td>\n",
       "      <td>0</td>\n",
       "      <td>0</td>\n",
       "      <td>0</td>\n",
       "      <td>0</td>\n",
       "      <td>0</td>\n",
       "      <td>1</td>\n",
       "      <td>0</td>\n",
       "      <td>0</td>\n",
       "    </tr>\n",
       "    <tr>\n",
       "      <th>4</th>\n",
       "      <td>12</td>\n",
       "      <td>2020</td>\n",
       "      <td>FL0139700</td>\n",
       "      <td>Miami Gardens</td>\n",
       "      <td>NaN</td>\n",
       "      <td>City</td>\n",
       "      <td>Miami Gardens</td>\n",
       "      <td>FL</td>\n",
       "      <td>Florida</td>\n",
       "      <td>South Atlantic</td>\n",
       "      <td>...</td>\n",
       "      <td>0</td>\n",
       "      <td>0</td>\n",
       "      <td>0</td>\n",
       "      <td>0</td>\n",
       "      <td>0</td>\n",
       "      <td>0</td>\n",
       "      <td>0</td>\n",
       "      <td>0</td>\n",
       "      <td>1</td>\n",
       "      <td>0</td>\n",
       "    </tr>\n",
       "    <tr>\n",
       "      <th>5</th>\n",
       "      <td>13</td>\n",
       "      <td>2016</td>\n",
       "      <td>TXSPD0000</td>\n",
       "      <td>San Antonio</td>\n",
       "      <td>NaN</td>\n",
       "      <td>City</td>\n",
       "      <td>San Antonio</td>\n",
       "      <td>TX</td>\n",
       "      <td>Texas</td>\n",
       "      <td>West South Central</td>\n",
       "      <td>...</td>\n",
       "      <td>0</td>\n",
       "      <td>0</td>\n",
       "      <td>0</td>\n",
       "      <td>0</td>\n",
       "      <td>0</td>\n",
       "      <td>0</td>\n",
       "      <td>0</td>\n",
       "      <td>1</td>\n",
       "      <td>0</td>\n",
       "      <td>0</td>\n",
       "    </tr>\n",
       "    <tr>\n",
       "      <th>6</th>\n",
       "      <td>14</td>\n",
       "      <td>2016</td>\n",
       "      <td>TNMPD0000</td>\n",
       "      <td>Memphis</td>\n",
       "      <td>NaN</td>\n",
       "      <td>City</td>\n",
       "      <td>Memphis</td>\n",
       "      <td>TN</td>\n",
       "      <td>Tennessee</td>\n",
       "      <td>East South Central</td>\n",
       "      <td>...</td>\n",
       "      <td>0</td>\n",
       "      <td>0</td>\n",
       "      <td>0</td>\n",
       "      <td>0</td>\n",
       "      <td>0</td>\n",
       "      <td>0</td>\n",
       "      <td>0</td>\n",
       "      <td>0</td>\n",
       "      <td>0</td>\n",
       "      <td>1</td>\n",
       "    </tr>\n",
       "    <tr>\n",
       "      <th>7</th>\n",
       "      <td>15</td>\n",
       "      <td>2016</td>\n",
       "      <td>TNMPD0000</td>\n",
       "      <td>Memphis</td>\n",
       "      <td>NaN</td>\n",
       "      <td>City</td>\n",
       "      <td>Memphis</td>\n",
       "      <td>TN</td>\n",
       "      <td>Tennessee</td>\n",
       "      <td>East South Central</td>\n",
       "      <td>...</td>\n",
       "      <td>0</td>\n",
       "      <td>0</td>\n",
       "      <td>0</td>\n",
       "      <td>0</td>\n",
       "      <td>0</td>\n",
       "      <td>0</td>\n",
       "      <td>0</td>\n",
       "      <td>0</td>\n",
       "      <td>0</td>\n",
       "      <td>0</td>\n",
       "    </tr>\n",
       "    <tr>\n",
       "      <th>8</th>\n",
       "      <td>16</td>\n",
       "      <td>2014</td>\n",
       "      <td>VA1200000</td>\n",
       "      <td>Portsmouth</td>\n",
       "      <td>NaN</td>\n",
       "      <td>City</td>\n",
       "      <td>Portsmouth</td>\n",
       "      <td>VA</td>\n",
       "      <td>Virginia</td>\n",
       "      <td>South Atlantic</td>\n",
       "      <td>...</td>\n",
       "      <td>0</td>\n",
       "      <td>0</td>\n",
       "      <td>0</td>\n",
       "      <td>0</td>\n",
       "      <td>0</td>\n",
       "      <td>0</td>\n",
       "      <td>0</td>\n",
       "      <td>0</td>\n",
       "      <td>0</td>\n",
       "      <td>0</td>\n",
       "    </tr>\n",
       "    <tr>\n",
       "      <th>9</th>\n",
       "      <td>17</td>\n",
       "      <td>2014</td>\n",
       "      <td>VA1200000</td>\n",
       "      <td>Portsmouth</td>\n",
       "      <td>NaN</td>\n",
       "      <td>City</td>\n",
       "      <td>Portsmouth</td>\n",
       "      <td>VA</td>\n",
       "      <td>Virginia</td>\n",
       "      <td>South Atlantic</td>\n",
       "      <td>...</td>\n",
       "      <td>0</td>\n",
       "      <td>0</td>\n",
       "      <td>0</td>\n",
       "      <td>0</td>\n",
       "      <td>0</td>\n",
       "      <td>0</td>\n",
       "      <td>0</td>\n",
       "      <td>0</td>\n",
       "      <td>0</td>\n",
       "      <td>1</td>\n",
       "    </tr>\n",
       "    <tr>\n",
       "      <th>10</th>\n",
       "      <td>18</td>\n",
       "      <td>2016</td>\n",
       "      <td>OH0120000</td>\n",
       "      <td>Clark</td>\n",
       "      <td>NaN</td>\n",
       "      <td>County</td>\n",
       "      <td>NaN</td>\n",
       "      <td>OH</td>\n",
       "      <td>Ohio</td>\n",
       "      <td>East North Central</td>\n",
       "      <td>...</td>\n",
       "      <td>0</td>\n",
       "      <td>0</td>\n",
       "      <td>0</td>\n",
       "      <td>0</td>\n",
       "      <td>0</td>\n",
       "      <td>0</td>\n",
       "      <td>0</td>\n",
       "      <td>0</td>\n",
       "      <td>0</td>\n",
       "      <td>0</td>\n",
       "    </tr>\n",
       "    <tr>\n",
       "      <th>11</th>\n",
       "      <td>19</td>\n",
       "      <td>2016</td>\n",
       "      <td>TXSPD0000</td>\n",
       "      <td>San Antonio</td>\n",
       "      <td>NaN</td>\n",
       "      <td>City</td>\n",
       "      <td>San Antonio</td>\n",
       "      <td>TX</td>\n",
       "      <td>Texas</td>\n",
       "      <td>West South Central</td>\n",
       "      <td>...</td>\n",
       "      <td>0</td>\n",
       "      <td>0</td>\n",
       "      <td>0</td>\n",
       "      <td>0</td>\n",
       "      <td>0</td>\n",
       "      <td>0</td>\n",
       "      <td>0</td>\n",
       "      <td>0</td>\n",
       "      <td>0</td>\n",
       "      <td>0</td>\n",
       "    </tr>\n",
       "    <tr>\n",
       "      <th>12</th>\n",
       "      <td>20</td>\n",
       "      <td>2016</td>\n",
       "      <td>TXSPD0000</td>\n",
       "      <td>San Antonio</td>\n",
       "      <td>NaN</td>\n",
       "      <td>City</td>\n",
       "      <td>San Antonio</td>\n",
       "      <td>TX</td>\n",
       "      <td>Texas</td>\n",
       "      <td>West South Central</td>\n",
       "      <td>...</td>\n",
       "      <td>0</td>\n",
       "      <td>0</td>\n",
       "      <td>0</td>\n",
       "      <td>0</td>\n",
       "      <td>0</td>\n",
       "      <td>0</td>\n",
       "      <td>0</td>\n",
       "      <td>1</td>\n",
       "      <td>0</td>\n",
       "      <td>0</td>\n",
       "    </tr>\n",
       "    <tr>\n",
       "      <th>13</th>\n",
       "      <td>21</td>\n",
       "      <td>2016</td>\n",
       "      <td>TXSPD0000</td>\n",
       "      <td>San Antonio</td>\n",
       "      <td>NaN</td>\n",
       "      <td>City</td>\n",
       "      <td>San Antonio</td>\n",
       "      <td>TX</td>\n",
       "      <td>Texas</td>\n",
       "      <td>West South Central</td>\n",
       "      <td>...</td>\n",
       "      <td>0</td>\n",
       "      <td>0</td>\n",
       "      <td>0</td>\n",
       "      <td>0</td>\n",
       "      <td>0</td>\n",
       "      <td>0</td>\n",
       "      <td>0</td>\n",
       "      <td>0</td>\n",
       "      <td>0</td>\n",
       "      <td>0</td>\n",
       "    </tr>\n",
       "    <tr>\n",
       "      <th>14</th>\n",
       "      <td>22</td>\n",
       "      <td>2016</td>\n",
       "      <td>SC0230000</td>\n",
       "      <td>Greenville</td>\n",
       "      <td>NaN</td>\n",
       "      <td>County</td>\n",
       "      <td>NaN</td>\n",
       "      <td>SC</td>\n",
       "      <td>South Carolina</td>\n",
       "      <td>South Atlantic</td>\n",
       "      <td>...</td>\n",
       "      <td>0</td>\n",
       "      <td>0</td>\n",
       "      <td>0</td>\n",
       "      <td>0</td>\n",
       "      <td>0</td>\n",
       "      <td>0</td>\n",
       "      <td>0</td>\n",
       "      <td>0</td>\n",
       "      <td>0</td>\n",
       "      <td>1</td>\n",
       "    </tr>\n",
       "    <tr>\n",
       "      <th>15</th>\n",
       "      <td>23</td>\n",
       "      <td>2016</td>\n",
       "      <td>TNMPD0000</td>\n",
       "      <td>Memphis</td>\n",
       "      <td>NaN</td>\n",
       "      <td>City</td>\n",
       "      <td>Memphis</td>\n",
       "      <td>TN</td>\n",
       "      <td>Tennessee</td>\n",
       "      <td>East South Central</td>\n",
       "      <td>...</td>\n",
       "      <td>0</td>\n",
       "      <td>0</td>\n",
       "      <td>0</td>\n",
       "      <td>0</td>\n",
       "      <td>0</td>\n",
       "      <td>0</td>\n",
       "      <td>0</td>\n",
       "      <td>1</td>\n",
       "      <td>0</td>\n",
       "      <td>0</td>\n",
       "    </tr>\n",
       "    <tr>\n",
       "      <th>16</th>\n",
       "      <td>24</td>\n",
       "      <td>2016</td>\n",
       "      <td>TNMPD0000</td>\n",
       "      <td>Memphis</td>\n",
       "      <td>NaN</td>\n",
       "      <td>City</td>\n",
       "      <td>Memphis</td>\n",
       "      <td>TN</td>\n",
       "      <td>Tennessee</td>\n",
       "      <td>East South Central</td>\n",
       "      <td>...</td>\n",
       "      <td>0</td>\n",
       "      <td>0</td>\n",
       "      <td>0</td>\n",
       "      <td>0</td>\n",
       "      <td>0</td>\n",
       "      <td>0</td>\n",
       "      <td>0</td>\n",
       "      <td>1</td>\n",
       "      <td>0</td>\n",
       "      <td>0</td>\n",
       "    </tr>\n",
       "    <tr>\n",
       "      <th>17</th>\n",
       "      <td>25</td>\n",
       "      <td>2014</td>\n",
       "      <td>VA1200000</td>\n",
       "      <td>Portsmouth</td>\n",
       "      <td>NaN</td>\n",
       "      <td>City</td>\n",
       "      <td>Portsmouth</td>\n",
       "      <td>VA</td>\n",
       "      <td>Virginia</td>\n",
       "      <td>South Atlantic</td>\n",
       "      <td>...</td>\n",
       "      <td>0</td>\n",
       "      <td>0</td>\n",
       "      <td>0</td>\n",
       "      <td>0</td>\n",
       "      <td>0</td>\n",
       "      <td>0</td>\n",
       "      <td>0</td>\n",
       "      <td>0</td>\n",
       "      <td>0</td>\n",
       "      <td>1</td>\n",
       "    </tr>\n",
       "    <tr>\n",
       "      <th>18</th>\n",
       "      <td>26</td>\n",
       "      <td>2014</td>\n",
       "      <td>VA1200000</td>\n",
       "      <td>Portsmouth</td>\n",
       "      <td>NaN</td>\n",
       "      <td>City</td>\n",
       "      <td>Portsmouth</td>\n",
       "      <td>VA</td>\n",
       "      <td>Virginia</td>\n",
       "      <td>South Atlantic</td>\n",
       "      <td>...</td>\n",
       "      <td>0</td>\n",
       "      <td>0</td>\n",
       "      <td>0</td>\n",
       "      <td>0</td>\n",
       "      <td>0</td>\n",
       "      <td>0</td>\n",
       "      <td>0</td>\n",
       "      <td>0</td>\n",
       "      <td>0</td>\n",
       "      <td>0</td>\n",
       "    </tr>\n",
       "    <tr>\n",
       "      <th>19</th>\n",
       "      <td>27</td>\n",
       "      <td>2014</td>\n",
       "      <td>FL0060700</td>\n",
       "      <td>Pompano Beach</td>\n",
       "      <td>NaN</td>\n",
       "      <td>City</td>\n",
       "      <td>Pompano Beach</td>\n",
       "      <td>FL</td>\n",
       "      <td>Florida</td>\n",
       "      <td>South Atlantic</td>\n",
       "      <td>...</td>\n",
       "      <td>0</td>\n",
       "      <td>0</td>\n",
       "      <td>0</td>\n",
       "      <td>0</td>\n",
       "      <td>0</td>\n",
       "      <td>0</td>\n",
       "      <td>0</td>\n",
       "      <td>1</td>\n",
       "      <td>0</td>\n",
       "      <td>0</td>\n",
       "    </tr>\n",
       "    <tr>\n",
       "      <th>20</th>\n",
       "      <td>28</td>\n",
       "      <td>2014</td>\n",
       "      <td>FL0060700</td>\n",
       "      <td>Pompano Beach</td>\n",
       "      <td>NaN</td>\n",
       "      <td>City</td>\n",
       "      <td>Pompano Beach</td>\n",
       "      <td>FL</td>\n",
       "      <td>Florida</td>\n",
       "      <td>South Atlantic</td>\n",
       "      <td>...</td>\n",
       "      <td>0</td>\n",
       "      <td>0</td>\n",
       "      <td>0</td>\n",
       "      <td>0</td>\n",
       "      <td>0</td>\n",
       "      <td>0</td>\n",
       "      <td>0</td>\n",
       "      <td>0</td>\n",
       "      <td>0</td>\n",
       "      <td>0</td>\n",
       "    </tr>\n",
       "    <tr>\n",
       "      <th>21</th>\n",
       "      <td>29</td>\n",
       "      <td>2016</td>\n",
       "      <td>TXSPD0000</td>\n",
       "      <td>San Antonio</td>\n",
       "      <td>NaN</td>\n",
       "      <td>City</td>\n",
       "      <td>San Antonio</td>\n",
       "      <td>TX</td>\n",
       "      <td>Texas</td>\n",
       "      <td>West South Central</td>\n",
       "      <td>...</td>\n",
       "      <td>0</td>\n",
       "      <td>0</td>\n",
       "      <td>0</td>\n",
       "      <td>0</td>\n",
       "      <td>0</td>\n",
       "      <td>0</td>\n",
       "      <td>0</td>\n",
       "      <td>0</td>\n",
       "      <td>0</td>\n",
       "      <td>1</td>\n",
       "    </tr>\n",
       "    <tr>\n",
       "      <th>22</th>\n",
       "      <td>31</td>\n",
       "      <td>2016</td>\n",
       "      <td>TXSPD0000</td>\n",
       "      <td>San Antonio</td>\n",
       "      <td>NaN</td>\n",
       "      <td>City</td>\n",
       "      <td>San Antonio</td>\n",
       "      <td>TX</td>\n",
       "      <td>Texas</td>\n",
       "      <td>West South Central</td>\n",
       "      <td>...</td>\n",
       "      <td>0</td>\n",
       "      <td>0</td>\n",
       "      <td>0</td>\n",
       "      <td>0</td>\n",
       "      <td>0</td>\n",
       "      <td>0</td>\n",
       "      <td>0</td>\n",
       "      <td>1</td>\n",
       "      <td>0</td>\n",
       "      <td>0</td>\n",
       "    </tr>\n",
       "    <tr>\n",
       "      <th>23</th>\n",
       "      <td>32</td>\n",
       "      <td>2016</td>\n",
       "      <td>SC0230000</td>\n",
       "      <td>Greenville</td>\n",
       "      <td>NaN</td>\n",
       "      <td>County</td>\n",
       "      <td>NaN</td>\n",
       "      <td>SC</td>\n",
       "      <td>South Carolina</td>\n",
       "      <td>South Atlantic</td>\n",
       "      <td>...</td>\n",
       "      <td>0</td>\n",
       "      <td>0</td>\n",
       "      <td>0</td>\n",
       "      <td>0</td>\n",
       "      <td>0</td>\n",
       "      <td>0</td>\n",
       "      <td>0</td>\n",
       "      <td>0</td>\n",
       "      <td>0</td>\n",
       "      <td>1</td>\n",
       "    </tr>\n",
       "    <tr>\n",
       "      <th>24</th>\n",
       "      <td>33</td>\n",
       "      <td>2016</td>\n",
       "      <td>TNMPD0000</td>\n",
       "      <td>Memphis</td>\n",
       "      <td>NaN</td>\n",
       "      <td>City</td>\n",
       "      <td>Memphis</td>\n",
       "      <td>TN</td>\n",
       "      <td>Tennessee</td>\n",
       "      <td>East South Central</td>\n",
       "      <td>...</td>\n",
       "      <td>0</td>\n",
       "      <td>0</td>\n",
       "      <td>0</td>\n",
       "      <td>0</td>\n",
       "      <td>0</td>\n",
       "      <td>0</td>\n",
       "      <td>0</td>\n",
       "      <td>1</td>\n",
       "      <td>0</td>\n",
       "      <td>0</td>\n",
       "    </tr>\n",
       "  </tbody>\n",
       "</table>\n",
       "<p>25 rows × 47 columns</p>\n",
       "</div>"
      ],
      "text/plain": [
       "    Unnamed: 0  data_year        ori pub_agency_name pub_agency_unit  \\\n",
       "0            0       2019  NC0900200          Monroe             NaN   \n",
       "1            1       2012  FL0530000            Polk             NaN   \n",
       "2            2       2012  FL0530000            Polk             NaN   \n",
       "3           11       2012  SC0150000        Colleton             NaN   \n",
       "4           12       2020  FL0139700   Miami Gardens             NaN   \n",
       "5           13       2016  TXSPD0000     San Antonio             NaN   \n",
       "6           14       2016  TNMPD0000         Memphis             NaN   \n",
       "7           15       2016  TNMPD0000         Memphis             NaN   \n",
       "8           16       2014  VA1200000      Portsmouth             NaN   \n",
       "9           17       2014  VA1200000      Portsmouth             NaN   \n",
       "10          18       2016  OH0120000           Clark             NaN   \n",
       "11          19       2016  TXSPD0000     San Antonio             NaN   \n",
       "12          20       2016  TXSPD0000     San Antonio             NaN   \n",
       "13          21       2016  TXSPD0000     San Antonio             NaN   \n",
       "14          22       2016  SC0230000      Greenville             NaN   \n",
       "15          23       2016  TNMPD0000         Memphis             NaN   \n",
       "16          24       2016  TNMPD0000         Memphis             NaN   \n",
       "17          25       2014  VA1200000      Portsmouth             NaN   \n",
       "18          26       2014  VA1200000      Portsmouth             NaN   \n",
       "19          27       2014  FL0060700   Pompano Beach             NaN   \n",
       "20          28       2014  FL0060700   Pompano Beach             NaN   \n",
       "21          29       2016  TXSPD0000     San Antonio             NaN   \n",
       "22          31       2016  TXSPD0000     San Antonio             NaN   \n",
       "23          32       2016  SC0230000      Greenville             NaN   \n",
       "24          33       2016  TNMPD0000         Memphis             NaN   \n",
       "\n",
       "   agency_type_name      city_name state_abbr      state_name  \\\n",
       "0              City         Monroe         NC  North Carolina   \n",
       "1            County            NaN         FL         Florida   \n",
       "2            County            NaN         FL         Florida   \n",
       "3            County            NaN         SC  South Carolina   \n",
       "4              City  Miami Gardens         FL         Florida   \n",
       "5              City    San Antonio         TX           Texas   \n",
       "6              City        Memphis         TN       Tennessee   \n",
       "7              City        Memphis         TN       Tennessee   \n",
       "8              City     Portsmouth         VA        Virginia   \n",
       "9              City     Portsmouth         VA        Virginia   \n",
       "10           County            NaN         OH            Ohio   \n",
       "11             City    San Antonio         TX           Texas   \n",
       "12             City    San Antonio         TX           Texas   \n",
       "13             City    San Antonio         TX           Texas   \n",
       "14           County            NaN         SC  South Carolina   \n",
       "15             City        Memphis         TN       Tennessee   \n",
       "16             City        Memphis         TN       Tennessee   \n",
       "17             City     Portsmouth         VA        Virginia   \n",
       "18             City     Portsmouth         VA        Virginia   \n",
       "19             City  Pompano Beach         FL         Florida   \n",
       "20             City  Pompano Beach         FL         Florida   \n",
       "21             City    San Antonio         TX           Texas   \n",
       "22             City    San Antonio         TX           Texas   \n",
       "23           County            NaN         SC  South Carolina   \n",
       "24             City        Memphis         TN       Tennessee   \n",
       "\n",
       "         division_name  ... is_public_victim is_prop_desc_other  \\\n",
       "0       South Atlantic  ...                0                  0   \n",
       "1       South Atlantic  ...                0                  0   \n",
       "2       South Atlantic  ...                0                  0   \n",
       "3       South Atlantic  ...                0                  0   \n",
       "4       South Atlantic  ...                0                  0   \n",
       "5   West South Central  ...                0                  0   \n",
       "6   East South Central  ...                0                  0   \n",
       "7   East South Central  ...                0                  0   \n",
       "8       South Atlantic  ...                0                  0   \n",
       "9       South Atlantic  ...                0                  0   \n",
       "10  East North Central  ...                0                  0   \n",
       "11  West South Central  ...                0                  0   \n",
       "12  West South Central  ...                0                  0   \n",
       "13  West South Central  ...                0                  0   \n",
       "14      South Atlantic  ...                0                  0   \n",
       "15  East South Central  ...                0                  0   \n",
       "16  East South Central  ...                0                  0   \n",
       "17      South Atlantic  ...                0                  0   \n",
       "18      South Atlantic  ...                0                  0   \n",
       "19      South Atlantic  ...                0                  0   \n",
       "20      South Atlantic  ...                0                  0   \n",
       "21  West South Central  ...                0                  0   \n",
       "22  West South Central  ...                0                  0   \n",
       "23      South Atlantic  ...                0                  0   \n",
       "24  East South Central  ...                0                  0   \n",
       "\n",
       "   is_prop_desc_purse is_prop_desc_money is_prop_desc_auto is_prop_desc_tools  \\\n",
       "0                   0                  0                 0                  0   \n",
       "1                   0                  0                 0                  0   \n",
       "2                   0                  0                 0                  0   \n",
       "3                   0                  0                 0                  0   \n",
       "4                   0                  0                 0                  0   \n",
       "5                   0                  0                 0                  0   \n",
       "6                   0                  0                 0                  0   \n",
       "7                   0                  0                 0                  0   \n",
       "8                   0                  0                 0                  0   \n",
       "9                   0                  0                 0                  0   \n",
       "10                  0                  0                 0                  0   \n",
       "11                  0                  0                 0                  0   \n",
       "12                  0                  0                 0                  0   \n",
       "13                  0                  0                 0                  0   \n",
       "14                  0                  0                 0                  0   \n",
       "15                  0                  0                 0                  0   \n",
       "16                  0                  0                 0                  0   \n",
       "17                  0                  0                 0                  0   \n",
       "18                  0                  0                 0                  0   \n",
       "19                  0                  0                 0                  0   \n",
       "20                  0                  0                 0                  0   \n",
       "21                  0                  0                 0                  0   \n",
       "22                  0                  0                 0                  0   \n",
       "23                  0                  0                 0                  0   \n",
       "24                  0                  0                 0                  0   \n",
       "\n",
       "   is_location_home is_location_parking_lot is_location_highway  is_perp_male  \n",
       "0                 0                       0                   0             0  \n",
       "1                 0                       0                   0             0  \n",
       "2                 0                       0                   0             0  \n",
       "3                 0                       1                   0             0  \n",
       "4                 0                       0                   1             0  \n",
       "5                 0                       1                   0             0  \n",
       "6                 0                       0                   0             1  \n",
       "7                 0                       0                   0             0  \n",
       "8                 0                       0                   0             0  \n",
       "9                 0                       0                   0             1  \n",
       "10                0                       0                   0             0  \n",
       "11                0                       0                   0             0  \n",
       "12                0                       1                   0             0  \n",
       "13                0                       0                   0             0  \n",
       "14                0                       0                   0             1  \n",
       "15                0                       1                   0             0  \n",
       "16                0                       1                   0             0  \n",
       "17                0                       0                   0             1  \n",
       "18                0                       0                   0             0  \n",
       "19                0                       1                   0             0  \n",
       "20                0                       0                   0             0  \n",
       "21                0                       0                   0             1  \n",
       "22                0                       1                   0             0  \n",
       "23                0                       0                   0             1  \n",
       "24                0                       1                   0             0  \n",
       "\n",
       "[25 rows x 47 columns]"
      ]
     },
     "execution_count": 146,
     "metadata": {},
     "output_type": "execute_result"
    }
   ],
   "source": [
    "df_cargo_2.head(25)"
   ]
  },
  {
   "cell_type": "code",
   "execution_count": 148,
   "id": "fd6f9330-4e89-47e3-b4fa-ddcfe8af7d6a",
   "metadata": {},
   "outputs": [],
   "source": [
    "#Export the data file to be used later\n",
    "df_cargo_2.to_csv(os.path.join(path, 'Data Files', 'edited', 'CD_2023_Cleaned_3.csv'))"
   ]
  },
  {
   "cell_type": "code",
   "execution_count": null,
   "id": "c9ea149b-620e-4287-bf0b-69aba36c1051",
   "metadata": {},
   "outputs": [],
   "source": []
  }
 ],
 "metadata": {
  "kernelspec": {
   "display_name": "Python [conda env:base] *",
   "language": "python",
   "name": "conda-base-py"
  },
  "language_info": {
   "codemirror_mode": {
    "name": "ipython",
    "version": 3
   },
   "file_extension": ".py",
   "mimetype": "text/x-python",
   "name": "python",
   "nbconvert_exporter": "python",
   "pygments_lexer": "ipython3",
   "version": "3.12.7"
  }
 },
 "nbformat": 4,
 "nbformat_minor": 5
}
